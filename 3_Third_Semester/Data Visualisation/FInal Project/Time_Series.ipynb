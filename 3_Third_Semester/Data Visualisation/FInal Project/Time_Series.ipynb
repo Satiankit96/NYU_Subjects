{
 "cells": [
  {
   "cell_type": "code",
   "execution_count": 1,
   "metadata": {
    "id": "CqvYOBwRs3y2"
   },
   "outputs": [],
   "source": [
    "from statsmodels.tsa.arima_model import ARIMA\n",
    "from statsmodels.tsa.statespace.sarimax import SARIMAX\n",
    "from pmdarima import auto_arima\n",
    "from statsmodels.graphics.tsaplots import plot_acf,plot_pacf\n",
    "from statsmodels.tsa.stattools import adfuller\n",
    "from statsmodels.tsa.statespace.tools import diff\n",
    "from sklearn.metrics import mean_squared_error,mean_absolute_error\n",
    "from sklearn.preprocessing import MinMaxScaler\n",
    "\n",
    "\n",
    "import pandas as pd\n",
    "import numpy as np\n",
    "import matplotlib.pyplot as plt\n",
    "import warnings\n",
    "warnings.filterwarnings('ignore')\n",
    "\n",
    "import tensorflow as tf\n",
    "from tensorflow.keras.models import Sequential\n",
    "from tensorflow.keras.layers import Dense\n",
    "from tensorflow.keras.layers import LSTM"
   ]
  },
  {
   "cell_type": "code",
   "execution_count": 2,
   "metadata": {
    "id": "DqNEeuWwujje"
   },
   "outputs": [],
   "source": [
    "# Installing this version of statsmodels as it has the plot_predict which gives the confidence interval for ARIMA predictions.\n",
    "#!pip install statsmodels==0.12.1"
   ]
  },
  {
   "cell_type": "code",
   "execution_count": 3,
   "metadata": {
    "id": "wYXPAnjVfX0h"
   },
   "outputs": [],
   "source": [
    "covid_df = pd.read_csv('https://raw.githubusercontent.com/nytimes/covid-19-data/master/us.csv',index_col='date',parse_dates=True)"
   ]
  },
  {
   "cell_type": "code",
   "execution_count": 4,
   "metadata": {
    "colab": {
     "base_uri": "https://localhost:8080/",
     "height": 238
    },
    "id": "w4rIvCfGtUBS",
    "outputId": "d62077ae-a4f3-4299-eb55-46865723cb63"
   },
   "outputs": [
    {
     "data": {
      "text/html": [
       "<div>\n",
       "<style scoped>\n",
       "    .dataframe tbody tr th:only-of-type {\n",
       "        vertical-align: middle;\n",
       "    }\n",
       "\n",
       "    .dataframe tbody tr th {\n",
       "        vertical-align: top;\n",
       "    }\n",
       "\n",
       "    .dataframe thead th {\n",
       "        text-align: right;\n",
       "    }\n",
       "</style>\n",
       "<table border=\"1\" class=\"dataframe\">\n",
       "  <thead>\n",
       "    <tr style=\"text-align: right;\">\n",
       "      <th></th>\n",
       "      <th>cases</th>\n",
       "      <th>deaths</th>\n",
       "    </tr>\n",
       "    <tr>\n",
       "      <th>date</th>\n",
       "      <th></th>\n",
       "      <th></th>\n",
       "    </tr>\n",
       "  </thead>\n",
       "  <tbody>\n",
       "    <tr>\n",
       "      <th>2022-11-30</th>\n",
       "      <td>98518163</td>\n",
       "      <td>1087873</td>\n",
       "    </tr>\n",
       "    <tr>\n",
       "      <th>2022-12-01</th>\n",
       "      <td>98616721</td>\n",
       "      <td>1088564</td>\n",
       "    </tr>\n",
       "    <tr>\n",
       "      <th>2022-12-02</th>\n",
       "      <td>98690152</td>\n",
       "      <td>1088978</td>\n",
       "    </tr>\n",
       "    <tr>\n",
       "      <th>2022-12-03</th>\n",
       "      <td>98695013</td>\n",
       "      <td>1088997</td>\n",
       "    </tr>\n",
       "    <tr>\n",
       "      <th>2022-12-04</th>\n",
       "      <td>98699619</td>\n",
       "      <td>1088997</td>\n",
       "    </tr>\n",
       "  </tbody>\n",
       "</table>\n",
       "</div>"
      ],
      "text/plain": [
       "               cases   deaths\n",
       "date                         \n",
       "2022-11-30  98518163  1087873\n",
       "2022-12-01  98616721  1088564\n",
       "2022-12-02  98690152  1088978\n",
       "2022-12-03  98695013  1088997\n",
       "2022-12-04  98699619  1088997"
      ]
     },
     "execution_count": 4,
     "metadata": {},
     "output_type": "execute_result"
    }
   ],
   "source": [
    "covid_df.tail()"
   ]
  },
  {
   "cell_type": "markdown",
   "metadata": {},
   "source": [
    "### LSTM"
   ]
  },
  {
   "cell_type": "code",
   "execution_count": 5,
   "metadata": {},
   "outputs": [],
   "source": [
    "tf.random.set_seed(7)"
   ]
  },
  {
   "cell_type": "code",
   "execution_count": 6,
   "metadata": {},
   "outputs": [],
   "source": [
    "# Read the dataset\n",
    "dataframe = pd.read_csv('https://raw.githubusercontent.com/nytimes/covid-19-data/master/us.csv', usecols=[1], engine='python')\n",
    "dataset = dataframe.values\n",
    "dataset = dataset.astype('float32')"
   ]
  },
  {
   "cell_type": "code",
   "execution_count": 7,
   "metadata": {},
   "outputs": [],
   "source": [
    "# Normalizing the data\n",
    "scaler = MinMaxScaler(feature_range=(0, 1))\n",
    "dataset = scaler.fit_transform(dataset)"
   ]
  },
  {
   "cell_type": "code",
   "execution_count": 8,
   "metadata": {},
   "outputs": [],
   "source": [
    "# split into train and test \n",
    "train_size = int(len(dataset) * 0.67)\n",
    "test_size = len(dataset) - train_size\n",
    "train, test = dataset[0:train_size,:], dataset[train_size:len(dataset),:]"
   ]
  },
  {
   "cell_type": "code",
   "execution_count": 9,
   "metadata": {},
   "outputs": [],
   "source": [
    "# convert an array of values into a dataset matrix\n",
    "def get_dataset(dataset, look_back=1):\n",
    "\tdataX, dataY = [], []\n",
    "\tfor i in range(len(dataset)-look_back-1):\n",
    "\t\ta = dataset[i:(i+look_back), 0]\n",
    "\t\tdataX.append(a)\n",
    "\t\tdataY.append(dataset[i + look_back, 0])\n",
    "\treturn np.array(dataX), np.array(dataY)"
   ]
  },
  {
   "cell_type": "code",
   "execution_count": 10,
   "metadata": {},
   "outputs": [],
   "source": [
    "# Reshaping \n",
    "look_back = 1\n",
    "trainX, trainY = get_dataset(train, look_back)\n",
    "testX, testY = get_dataset(test, look_back)\n",
    "\n",
    "# reshape input to be [samples, time steps, features]\n",
    "trainX = np.reshape(trainX, (trainX.shape[0], 1, trainX.shape[1]))\n",
    "testX = np.reshape(testX, (testX.shape[0], 1, testX.shape[1]))"
   ]
  },
  {
   "cell_type": "code",
   "execution_count": 11,
   "metadata": {
    "scrolled": true
   },
   "outputs": [
    {
     "name": "stdout",
     "output_type": "stream",
     "text": [
      "Epoch 1/100\n",
      "700/700 - 2s - loss: 0.0242 - 2s/epoch - 2ms/step\n",
      "Epoch 2/100\n",
      "700/700 - 1s - loss: 0.0044 - 630ms/epoch - 900us/step\n",
      "Epoch 3/100\n",
      "700/700 - 1s - loss: 7.2810e-05 - 650ms/epoch - 929us/step\n",
      "Epoch 4/100\n",
      "700/700 - 1s - loss: 1.0544e-05 - 675ms/epoch - 965us/step\n",
      "Epoch 5/100\n",
      "700/700 - 1s - loss: 9.7989e-06 - 677ms/epoch - 968us/step\n",
      "Epoch 6/100\n",
      "700/700 - 1s - loss: 8.5109e-06 - 720ms/epoch - 1ms/step\n",
      "Epoch 7/100\n",
      "700/700 - 1s - loss: 7.3244e-06 - 664ms/epoch - 949us/step\n",
      "Epoch 8/100\n",
      "700/700 - 1s - loss: 6.1162e-06 - 654ms/epoch - 935us/step\n",
      "Epoch 9/100\n",
      "700/700 - 1s - loss: 4.8106e-06 - 678ms/epoch - 969us/step\n",
      "Epoch 10/100\n",
      "700/700 - 1s - loss: 4.4190e-06 - 677ms/epoch - 967us/step\n",
      "Epoch 11/100\n",
      "700/700 - 1s - loss: 4.2278e-06 - 616ms/epoch - 880us/step\n",
      "Epoch 12/100\n",
      "700/700 - 1s - loss: 4.4253e-06 - 635ms/epoch - 907us/step\n",
      "Epoch 13/100\n",
      "700/700 - 1s - loss: 4.4086e-06 - 693ms/epoch - 991us/step\n",
      "Epoch 14/100\n",
      "700/700 - 1s - loss: 4.9716e-06 - 653ms/epoch - 934us/step\n",
      "Epoch 15/100\n",
      "700/700 - 1s - loss: 5.1764e-06 - 630ms/epoch - 900us/step\n",
      "Epoch 16/100\n",
      "700/700 - 1s - loss: 4.7117e-06 - 661ms/epoch - 944us/step\n",
      "Epoch 17/100\n",
      "700/700 - 1s - loss: 4.8567e-06 - 629ms/epoch - 899us/step\n",
      "Epoch 18/100\n",
      "700/700 - 1s - loss: 4.6340e-06 - 681ms/epoch - 972us/step\n",
      "Epoch 19/100\n",
      "700/700 - 1s - loss: 4.8926e-06 - 645ms/epoch - 921us/step\n",
      "Epoch 20/100\n",
      "700/700 - 1s - loss: 4.7633e-06 - 779ms/epoch - 1ms/step\n",
      "Epoch 21/100\n",
      "700/700 - 1s - loss: 4.9575e-06 - 820ms/epoch - 1ms/step\n",
      "Epoch 22/100\n",
      "700/700 - 1s - loss: 4.8374e-06 - 849ms/epoch - 1ms/step\n",
      "Epoch 23/100\n",
      "700/700 - 1s - loss: 5.0348e-06 - 915ms/epoch - 1ms/step\n",
      "Epoch 24/100\n",
      "700/700 - 1s - loss: 4.5610e-06 - 823ms/epoch - 1ms/step\n",
      "Epoch 25/100\n",
      "700/700 - 1s - loss: 4.7309e-06 - 758ms/epoch - 1ms/step\n",
      "Epoch 26/100\n",
      "700/700 - 1s - loss: 5.2436e-06 - 739ms/epoch - 1ms/step\n",
      "Epoch 27/100\n",
      "700/700 - 1s - loss: 4.1813e-06 - 686ms/epoch - 980us/step\n",
      "Epoch 28/100\n",
      "700/700 - 1s - loss: 5.0118e-06 - 708ms/epoch - 1ms/step\n",
      "Epoch 29/100\n",
      "700/700 - 1s - loss: 4.9059e-06 - 805ms/epoch - 1ms/step\n",
      "Epoch 30/100\n",
      "700/700 - 1s - loss: 4.1897e-06 - 765ms/epoch - 1ms/step\n",
      "Epoch 31/100\n",
      "700/700 - 1s - loss: 4.6612e-06 - 671ms/epoch - 959us/step\n",
      "Epoch 32/100\n",
      "700/700 - 1s - loss: 4.4344e-06 - 654ms/epoch - 935us/step\n",
      "Epoch 33/100\n",
      "700/700 - 1s - loss: 4.2450e-06 - 783ms/epoch - 1ms/step\n",
      "Epoch 34/100\n",
      "700/700 - 1s - loss: 4.0183e-06 - 767ms/epoch - 1ms/step\n",
      "Epoch 35/100\n",
      "700/700 - 1s - loss: 4.9597e-06 - 631ms/epoch - 901us/step\n",
      "Epoch 36/100\n",
      "700/700 - 1s - loss: 3.8848e-06 - 634ms/epoch - 906us/step\n",
      "Epoch 37/100\n",
      "700/700 - 1s - loss: 4.9286e-06 - 644ms/epoch - 920us/step\n",
      "Epoch 38/100\n",
      "700/700 - 1s - loss: 4.1642e-06 - 704ms/epoch - 1ms/step\n",
      "Epoch 39/100\n",
      "700/700 - 1s - loss: 4.1046e-06 - 670ms/epoch - 957us/step\n",
      "Epoch 40/100\n",
      "700/700 - 1s - loss: 4.3188e-06 - 729ms/epoch - 1ms/step\n",
      "Epoch 41/100\n",
      "700/700 - 1s - loss: 4.5763e-06 - 702ms/epoch - 1ms/step\n",
      "Epoch 42/100\n",
      "700/700 - 1s - loss: 4.8380e-06 - 831ms/epoch - 1ms/step\n",
      "Epoch 43/100\n",
      "700/700 - 1s - loss: 4.5825e-06 - 741ms/epoch - 1ms/step\n",
      "Epoch 44/100\n",
      "700/700 - 1s - loss: 4.2675e-06 - 679ms/epoch - 970us/step\n",
      "Epoch 45/100\n",
      "700/700 - 1s - loss: 3.8261e-06 - 644ms/epoch - 920us/step\n",
      "Epoch 46/100\n",
      "700/700 - 1s - loss: 4.6357e-06 - 645ms/epoch - 921us/step\n",
      "Epoch 47/100\n",
      "700/700 - 1s - loss: 4.2702e-06 - 663ms/epoch - 948us/step\n",
      "Epoch 48/100\n",
      "700/700 - 1s - loss: 3.6054e-06 - 663ms/epoch - 947us/step\n",
      "Epoch 49/100\n",
      "700/700 - 1s - loss: 4.0349e-06 - 709ms/epoch - 1ms/step\n",
      "Epoch 50/100\n",
      "700/700 - 1s - loss: 4.5799e-06 - 729ms/epoch - 1ms/step\n",
      "Epoch 51/100\n",
      "700/700 - 1s - loss: 3.7880e-06 - 753ms/epoch - 1ms/step\n",
      "Epoch 52/100\n",
      "700/700 - 1s - loss: 4.0099e-06 - 704ms/epoch - 1ms/step\n",
      "Epoch 53/100\n",
      "700/700 - 1s - loss: 4.5123e-06 - 622ms/epoch - 889us/step\n",
      "Epoch 54/100\n",
      "700/700 - 1s - loss: 4.0985e-06 - 624ms/epoch - 891us/step\n",
      "Epoch 55/100\n",
      "700/700 - 1s - loss: 3.7162e-06 - 724ms/epoch - 1ms/step\n",
      "Epoch 56/100\n",
      "700/700 - 1s - loss: 3.7049e-06 - 732ms/epoch - 1ms/step\n",
      "Epoch 57/100\n",
      "700/700 - 1s - loss: 4.0895e-06 - 649ms/epoch - 927us/step\n",
      "Epoch 58/100\n",
      "700/700 - 1s - loss: 3.8488e-06 - 685ms/epoch - 979us/step\n",
      "Epoch 59/100\n",
      "700/700 - 1s - loss: 3.1949e-06 - 626ms/epoch - 894us/step\n",
      "Epoch 60/100\n",
      "700/700 - 1s - loss: 3.8482e-06 - 652ms/epoch - 931us/step\n",
      "Epoch 61/100\n",
      "700/700 - 1s - loss: 4.1393e-06 - 670ms/epoch - 958us/step\n",
      "Epoch 62/100\n",
      "700/700 - 1s - loss: 3.7605e-06 - 667ms/epoch - 952us/step\n",
      "Epoch 63/100\n",
      "700/700 - 1s - loss: 4.0898e-06 - 658ms/epoch - 940us/step\n",
      "Epoch 64/100\n",
      "700/700 - 1s - loss: 4.2974e-06 - 670ms/epoch - 958us/step\n",
      "Epoch 65/100\n",
      "700/700 - 1s - loss: 3.4753e-06 - 647ms/epoch - 924us/step\n",
      "Epoch 66/100\n",
      "700/700 - 1s - loss: 3.9517e-06 - 665ms/epoch - 950us/step\n",
      "Epoch 67/100\n",
      "700/700 - 1s - loss: 4.6447e-06 - 684ms/epoch - 976us/step\n",
      "Epoch 68/100\n",
      "700/700 - 1s - loss: 3.6859e-06 - 908ms/epoch - 1ms/step\n",
      "Epoch 69/100\n",
      "700/700 - 1s - loss: 3.6231e-06 - 695ms/epoch - 992us/step\n",
      "Epoch 70/100\n",
      "700/700 - 1s - loss: 3.3561e-06 - 854ms/epoch - 1ms/step\n",
      "Epoch 71/100\n",
      "700/700 - 1s - loss: 3.6579e-06 - 846ms/epoch - 1ms/step\n",
      "Epoch 72/100\n",
      "700/700 - 1s - loss: 3.4230e-06 - 971ms/epoch - 1ms/step\n",
      "Epoch 73/100\n",
      "700/700 - 1s - loss: 4.1190e-06 - 973ms/epoch - 1ms/step\n",
      "Epoch 74/100\n",
      "700/700 - 1s - loss: 3.7045e-06 - 797ms/epoch - 1ms/step\n",
      "Epoch 75/100\n",
      "700/700 - 1s - loss: 3.7062e-06 - 704ms/epoch - 1ms/step\n",
      "Epoch 76/100\n",
      "700/700 - 1s - loss: 4.0926e-06 - 636ms/epoch - 909us/step\n",
      "Epoch 77/100\n",
      "700/700 - 1s - loss: 4.0167e-06 - 667ms/epoch - 953us/step\n",
      "Epoch 78/100\n",
      "700/700 - 1s - loss: 3.6435e-06 - 717ms/epoch - 1ms/step\n",
      "Epoch 79/100\n",
      "700/700 - 1s - loss: 3.2678e-06 - 726ms/epoch - 1ms/step\n",
      "Epoch 80/100\n",
      "700/700 - 1s - loss: 4.1665e-06 - 743ms/epoch - 1ms/step\n",
      "Epoch 81/100\n",
      "700/700 - 1s - loss: 3.2257e-06 - 688ms/epoch - 982us/step\n",
      "Epoch 82/100\n",
      "700/700 - 1s - loss: 4.2579e-06 - 640ms/epoch - 915us/step\n",
      "Epoch 83/100\n",
      "700/700 - 1s - loss: 4.0864e-06 - 708ms/epoch - 1ms/step\n",
      "Epoch 84/100\n",
      "700/700 - 1s - loss: 3.9675e-06 - 669ms/epoch - 956us/step\n",
      "Epoch 85/100\n",
      "700/700 - 1s - loss: 3.6317e-06 - 628ms/epoch - 898us/step\n",
      "Epoch 86/100\n",
      "700/700 - 1s - loss: 3.5959e-06 - 654ms/epoch - 935us/step\n",
      "Epoch 87/100\n",
      "700/700 - 1s - loss: 4.2161e-06 - 655ms/epoch - 936us/step\n",
      "Epoch 88/100\n",
      "700/700 - 1s - loss: 3.5500e-06 - 629ms/epoch - 899us/step\n",
      "Epoch 89/100\n",
      "700/700 - 1s - loss: 3.6278e-06 - 681ms/epoch - 973us/step\n",
      "Epoch 90/100\n",
      "700/700 - 1s - loss: 3.6497e-06 - 651ms/epoch - 930us/step\n",
      "Epoch 91/100\n",
      "700/700 - 1s - loss: 3.3584e-06 - 676ms/epoch - 966us/step\n",
      "Epoch 92/100\n",
      "700/700 - 1s - loss: 3.9077e-06 - 637ms/epoch - 910us/step\n",
      "Epoch 93/100\n",
      "700/700 - 1s - loss: 3.2936e-06 - 735ms/epoch - 1ms/step\n",
      "Epoch 94/100\n",
      "700/700 - 1s - loss: 3.2311e-06 - 803ms/epoch - 1ms/step\n",
      "Epoch 95/100\n",
      "700/700 - 1s - loss: 3.2737e-06 - 809ms/epoch - 1ms/step\n",
      "Epoch 96/100\n",
      "700/700 - 1s - loss: 3.6415e-06 - 614ms/epoch - 877us/step\n",
      "Epoch 97/100\n",
      "700/700 - 1s - loss: 3.8567e-06 - 635ms/epoch - 908us/step\n",
      "Epoch 98/100\n",
      "700/700 - 1s - loss: 3.5474e-06 - 686ms/epoch - 980us/step\n",
      "Epoch 99/100\n",
      "700/700 - 1s - loss: 3.3804e-06 - 680ms/epoch - 971us/step\n",
      "Epoch 100/100\n",
      "700/700 - 1s - loss: 2.8520e-06 - 637ms/epoch - 910us/step\n"
     ]
    },
    {
     "data": {
      "text/plain": [
       "<keras.callbacks.History at 0x19ded6ddcd0>"
      ]
     },
     "execution_count": 11,
     "metadata": {},
     "output_type": "execute_result"
    }
   ],
   "source": [
    "# LSTM modelling\n",
    "model = Sequential()\n",
    "model.add(LSTM(4, input_shape=(1, look_back)))\n",
    "model.add(Dense(1))\n",
    "model.compile(loss='mean_squared_error', optimizer='adam')\n",
    "model.fit(trainX, trainY, epochs=100, batch_size=1, verbose=2)"
   ]
  },
  {
   "cell_type": "code",
   "execution_count": 12,
   "metadata": {},
   "outputs": [
    {
     "name": "stdout",
     "output_type": "stream",
     "text": [
      "Train data Score: 232010.73 RMSE\n",
      "Test data Score: 5779391.97 RMSE\n"
     ]
    }
   ],
   "source": [
    "# Predictions\n",
    "\n",
    "trainPredict = model.predict(trainX)\n",
    "testPredict = model.predict(testX)\n",
    "\n",
    "# invert predictions\n",
    "\n",
    "trainPredict = scaler.inverse_transform(trainPredict)\n",
    "trainY = scaler.inverse_transform([trainY])\n",
    "testPredict = scaler.inverse_transform(testPredict)\n",
    "testY = scaler.inverse_transform([testY])\n",
    "\n",
    "# calculate root mean squared error\n",
    "\n",
    "trainScore = np.sqrt(mean_squared_error(trainY[0], trainPredict[:,0]))\n",
    "print('Train data Score: %.2f RMSE' % (trainScore))\n",
    "testScore = np.sqrt(mean_squared_error(testY[0], testPredict[:,0]))\n",
    "print('Test data Score: %.2f RMSE' % (testScore))"
   ]
  },
  {
   "cell_type": "code",
   "execution_count": 13,
   "metadata": {},
   "outputs": [
    {
     "data": {
      "text/plain": [
       "0.01126"
      ]
     },
     "execution_count": 13,
     "metadata": {},
     "output_type": "execute_result"
    }
   ],
   "source": [
    "error = int(np.sqrt(mean_squared_error(trainY[0], trainPredict[:,0])))\n",
    "mean = int(trainY[0].mean())\n",
    "error_rate = round((error/mean),5)\n",
    "error_rate"
   ]
  },
  {
   "cell_type": "code",
   "execution_count": 14,
   "metadata": {},
   "outputs": [
    {
     "data": {
      "image/png": "[encoded data removed]",
      "text/plain": [
       "<Figure size 432x288 with 1 Axes>"
      ]
     },
     "metadata": {
      "needs_background": "light"
     },
     "output_type": "display_data"
    }
   ],
   "source": [
    "# shift train predictions for plotting\n",
    "trainPredictPlot = np.empty_like(dataset)\n",
    "trainPredictPlot[:, :] = np.nan\n",
    "trainPredictPlot[look_back:len(trainPredict)+look_back, :] = trainPredict\n",
    "# shift test predictions for plotting\n",
    "testPredictPlot = np.empty_like(dataset)\n",
    "testPredictPlot[:, :] = np.nan\n",
    "testPredictPlot[len(trainPredict)+(look_back*2)+1:len(dataset)-1, :] = testPredict\n",
    "\n",
    "# Plot baseline and predictions\n",
    "plt.plot(scaler.inverse_transform(dataset), color = 'green')\n",
    "plt.plot(trainPredictPlot,color = 'black')\n",
    "plt.plot(testPredictPlot, color = 'red')\n",
    "plt.title(\"Baseline vs Predictions: LSTM\")\n",
    "plt.show()"
   ]
  },
  {
   "cell_type": "markdown",
   "metadata": {},
   "source": [
    "### LSTM Window Method"
   ]
  },
  {
   "cell_type": "code",
   "execution_count": 16,
   "metadata": {
    "scrolled": true
   },
   "outputs": [
    {
     "name": "stdout",
     "output_type": "stream",
     "text": [
      "Epoch 1/100\n",
      "698/698 - 2s - loss: 0.0150 - 2s/epoch - 2ms/step\n",
      "Epoch 2/100\n",
      "698/698 - 1s - loss: 2.4864e-04 - 708ms/epoch - 1ms/step\n",
      "Epoch 3/100\n",
      "698/698 - 1s - loss: 1.4013e-05 - 666ms/epoch - 954us/step\n",
      "Epoch 4/100\n",
      "698/698 - 1s - loss: 1.4211e-05 - 659ms/epoch - 944us/step\n",
      "Epoch 5/100\n",
      "698/698 - 1s - loss: 1.4375e-05 - 721ms/epoch - 1ms/step\n",
      "Epoch 6/100\n",
      "698/698 - 1s - loss: 1.4975e-05 - 713ms/epoch - 1ms/step\n",
      "Epoch 7/100\n",
      "698/698 - 1s - loss: 1.4330e-05 - 679ms/epoch - 973us/step\n",
      "Epoch 8/100\n",
      "698/698 - 1s - loss: 1.5334e-05 - 696ms/epoch - 997us/step\n",
      "Epoch 9/100\n",
      "698/698 - 1s - loss: 1.5594e-05 - 723ms/epoch - 1ms/step\n",
      "Epoch 10/100\n",
      "698/698 - 1s - loss: 1.6399e-05 - 752ms/epoch - 1ms/step\n",
      "Epoch 11/100\n",
      "698/698 - 1s - loss: 1.7086e-05 - 722ms/epoch - 1ms/step\n",
      "Epoch 12/100\n",
      "698/698 - 1s - loss: 1.5904e-05 - 704ms/epoch - 1ms/step\n",
      "Epoch 13/100\n",
      "698/698 - 1s - loss: 1.5617e-05 - 704ms/epoch - 1ms/step\n",
      "Epoch 14/100\n",
      "698/698 - 1s - loss: 1.6826e-05 - 685ms/epoch - 981us/step\n",
      "Epoch 15/100\n",
      "698/698 - 1s - loss: 1.5127e-05 - 671ms/epoch - 962us/step\n",
      "Epoch 16/100\n",
      "698/698 - 1s - loss: 1.5898e-05 - 655ms/epoch - 938us/step\n",
      "Epoch 17/100\n",
      "698/698 - 1s - loss: 1.4984e-05 - 649ms/epoch - 929us/step\n",
      "Epoch 18/100\n",
      "698/698 - 1s - loss: 1.5413e-05 - 645ms/epoch - 923us/step\n",
      "Epoch 19/100\n",
      "698/698 - 1s - loss: 1.4624e-05 - 723ms/epoch - 1ms/step\n",
      "Epoch 20/100\n",
      "698/698 - 1s - loss: 1.4018e-05 - 683ms/epoch - 978us/step\n",
      "Epoch 21/100\n",
      "698/698 - 1s - loss: 1.2892e-05 - 638ms/epoch - 914us/step\n",
      "Epoch 22/100\n",
      "698/698 - 1s - loss: 1.3848e-05 - 694ms/epoch - 994us/step\n",
      "Epoch 23/100\n",
      "698/698 - 1s - loss: 1.3334e-05 - 678ms/epoch - 971us/step\n",
      "Epoch 24/100\n",
      "698/698 - 1s - loss: 1.3794e-05 - 768ms/epoch - 1ms/step\n",
      "Epoch 25/100\n",
      "698/698 - 1s - loss: 1.2189e-05 - 630ms/epoch - 903us/step\n",
      "Epoch 26/100\n",
      "698/698 - 1s - loss: 1.2163e-05 - 635ms/epoch - 910us/step\n",
      "Epoch 27/100\n",
      "698/698 - 1s - loss: 1.1750e-05 - 710ms/epoch - 1ms/step\n",
      "Epoch 28/100\n",
      "698/698 - 1s - loss: 1.1600e-05 - 728ms/epoch - 1ms/step\n",
      "Epoch 29/100\n",
      "698/698 - 1s - loss: 1.1199e-05 - 693ms/epoch - 992us/step\n",
      "Epoch 30/100\n",
      "698/698 - 1s - loss: 1.1494e-05 - 699ms/epoch - 1ms/step\n",
      "Epoch 31/100\n",
      "698/698 - 1s - loss: 1.0294e-05 - 743ms/epoch - 1ms/step\n",
      "Epoch 32/100\n",
      "698/698 - 1s - loss: 8.8285e-06 - 770ms/epoch - 1ms/step\n",
      "Epoch 33/100\n",
      "698/698 - 1s - loss: 8.2373e-06 - 716ms/epoch - 1ms/step\n",
      "Epoch 34/100\n",
      "698/698 - 1s - loss: 7.4893e-06 - 746ms/epoch - 1ms/step\n",
      "Epoch 35/100\n",
      "698/698 - 1s - loss: 7.1022e-06 - 776ms/epoch - 1ms/step\n",
      "Epoch 36/100\n",
      "698/698 - 1s - loss: 5.6724e-06 - 790ms/epoch - 1ms/step\n",
      "Epoch 37/100\n",
      "698/698 - 1s - loss: 4.9351e-06 - 897ms/epoch - 1ms/step\n",
      "Epoch 38/100\n",
      "698/698 - 1s - loss: 3.4811e-06 - 749ms/epoch - 1ms/step\n",
      "Epoch 39/100\n",
      "698/698 - 1s - loss: 4.3341e-06 - 712ms/epoch - 1ms/step\n",
      "Epoch 40/100\n",
      "698/698 - 1s - loss: 3.3521e-06 - 734ms/epoch - 1ms/step\n",
      "Epoch 41/100\n",
      "698/698 - 1s - loss: 2.6459e-06 - 748ms/epoch - 1ms/step\n",
      "Epoch 42/100\n",
      "698/698 - 1s - loss: 2.4341e-06 - 719ms/epoch - 1ms/step\n",
      "Epoch 43/100\n",
      "698/698 - 1s - loss: 2.9421e-06 - 890ms/epoch - 1ms/step\n",
      "Epoch 44/100\n",
      "698/698 - 1s - loss: 2.5056e-06 - 843ms/epoch - 1ms/step\n",
      "Epoch 45/100\n",
      "698/698 - 1s - loss: 3.0837e-06 - 881ms/epoch - 1ms/step\n",
      "Epoch 46/100\n",
      "698/698 - 1s - loss: 3.1733e-06 - 842ms/epoch - 1ms/step\n",
      "Epoch 47/100\n",
      "698/698 - 1s - loss: 3.1836e-06 - 796ms/epoch - 1ms/step\n",
      "Epoch 48/100\n",
      "698/698 - 1s - loss: 3.0170e-06 - 745ms/epoch - 1ms/step\n",
      "Epoch 49/100\n",
      "698/698 - 1s - loss: 2.3857e-06 - 732ms/epoch - 1ms/step\n",
      "Epoch 50/100\n",
      "698/698 - 1s - loss: 3.3693e-06 - 756ms/epoch - 1ms/step\n",
      "Epoch 51/100\n",
      "698/698 - 1s - loss: 2.5509e-06 - 890ms/epoch - 1ms/step\n",
      "Epoch 52/100\n",
      "698/698 - 1s - loss: 2.7814e-06 - 862ms/epoch - 1ms/step\n",
      "Epoch 53/100\n",
      "698/698 - 1s - loss: 2.5301e-06 - 766ms/epoch - 1ms/step\n",
      "Epoch 54/100\n",
      "698/698 - 1s - loss: 2.6480e-06 - 888ms/epoch - 1ms/step\n",
      "Epoch 55/100\n",
      "698/698 - 1s - loss: 3.1560e-06 - 740ms/epoch - 1ms/step\n",
      "Epoch 56/100\n",
      "698/698 - 1s - loss: 2.6700e-06 - 655ms/epoch - 938us/step\n",
      "Epoch 57/100\n",
      "698/698 - 1s - loss: 2.6192e-06 - 641ms/epoch - 918us/step\n",
      "Epoch 58/100\n",
      "698/698 - 1s - loss: 2.7375e-06 - 652ms/epoch - 933us/step\n",
      "Epoch 59/100\n",
      "698/698 - 1s - loss: 2.5500e-06 - 653ms/epoch - 935us/step\n",
      "Epoch 60/100\n",
      "698/698 - 1s - loss: 2.8117e-06 - 623ms/epoch - 893us/step\n",
      "Epoch 61/100\n",
      "698/698 - 1s - loss: 2.5730e-06 - 620ms/epoch - 889us/step\n",
      "Epoch 62/100\n",
      "698/698 - 1s - loss: 2.5478e-06 - 658ms/epoch - 943us/step\n",
      "Epoch 63/100\n",
      "698/698 - 1s - loss: 2.6485e-06 - 771ms/epoch - 1ms/step\n",
      "Epoch 64/100\n",
      "698/698 - 1s - loss: 2.7285e-06 - 688ms/epoch - 985us/step\n",
      "Epoch 65/100\n",
      "698/698 - 1s - loss: 2.4561e-06 - 634ms/epoch - 908us/step\n",
      "Epoch 66/100\n",
      "698/698 - 1s - loss: 2.5143e-06 - 619ms/epoch - 887us/step\n",
      "Epoch 67/100\n",
      "698/698 - 1s - loss: 3.2143e-06 - 645ms/epoch - 925us/step\n",
      "Epoch 68/100\n",
      "698/698 - 1s - loss: 2.4247e-06 - 723ms/epoch - 1ms/step\n",
      "Epoch 69/100\n",
      "698/698 - 1s - loss: 2.2791e-06 - 650ms/epoch - 932us/step\n",
      "Epoch 70/100\n",
      "698/698 - 1s - loss: 3.0815e-06 - 769ms/epoch - 1ms/step\n",
      "Epoch 71/100\n",
      "698/698 - 1s - loss: 2.5337e-06 - 1s/epoch - 1ms/step\n",
      "Epoch 72/100\n",
      "698/698 - 1s - loss: 2.9055e-06 - 871ms/epoch - 1ms/step\n",
      "Epoch 73/100\n",
      "698/698 - 1s - loss: 2.9013e-06 - 764ms/epoch - 1ms/step\n",
      "Epoch 74/100\n",
      "698/698 - 1s - loss: 2.0078e-06 - 863ms/epoch - 1ms/step\n",
      "Epoch 75/100\n",
      "698/698 - 1s - loss: 2.6537e-06 - 841ms/epoch - 1ms/step\n",
      "Epoch 76/100\n",
      "698/698 - 1s - loss: 2.5678e-06 - 735ms/epoch - 1ms/step\n",
      "Epoch 77/100\n",
      "698/698 - 1s - loss: 2.3476e-06 - 727ms/epoch - 1ms/step\n",
      "Epoch 78/100\n",
      "698/698 - 1s - loss: 2.8105e-06 - 774ms/epoch - 1ms/step\n",
      "Epoch 79/100\n",
      "698/698 - 1s - loss: 2.3820e-06 - 825ms/epoch - 1ms/step\n",
      "Epoch 80/100\n",
      "698/698 - 1s - loss: 2.3920e-06 - 833ms/epoch - 1ms/step\n",
      "Epoch 81/100\n",
      "698/698 - 1s - loss: 2.8363e-06 - 738ms/epoch - 1ms/step\n",
      "Epoch 82/100\n",
      "698/698 - 1s - loss: 2.1977e-06 - 736ms/epoch - 1ms/step\n",
      "Epoch 83/100\n",
      "698/698 - 1s - loss: 2.6371e-06 - 745ms/epoch - 1ms/step\n",
      "Epoch 84/100\n",
      "698/698 - 1s - loss: 2.5472e-06 - 733ms/epoch - 1ms/step\n",
      "Epoch 85/100\n",
      "698/698 - 1s - loss: 2.8093e-06 - 780ms/epoch - 1ms/step\n",
      "Epoch 86/100\n",
      "698/698 - 1s - loss: 2.4763e-06 - 787ms/epoch - 1ms/step\n",
      "Epoch 87/100\n",
      "698/698 - 1s - loss: 2.9138e-06 - 777ms/epoch - 1ms/step\n",
      "Epoch 88/100\n",
      "698/698 - 1s - loss: 2.7106e-06 - 893ms/epoch - 1ms/step\n",
      "Epoch 89/100\n",
      "698/698 - 1s - loss: 3.0425e-06 - 829ms/epoch - 1ms/step\n",
      "Epoch 90/100\n",
      "698/698 - 1s - loss: 2.8516e-06 - 884ms/epoch - 1ms/step\n",
      "Epoch 91/100\n",
      "698/698 - 1s - loss: 2.5764e-06 - 742ms/epoch - 1ms/step\n",
      "Epoch 92/100\n",
      "698/698 - 1s - loss: 2.9878e-06 - 741ms/epoch - 1ms/step\n",
      "Epoch 93/100\n",
      "698/698 - 1s - loss: 3.3495e-06 - 736ms/epoch - 1ms/step\n",
      "Epoch 94/100\n",
      "698/698 - 1s - loss: 1.9854e-06 - 745ms/epoch - 1ms/step\n",
      "Epoch 95/100\n",
      "698/698 - 1s - loss: 2.4380e-06 - 750ms/epoch - 1ms/step\n",
      "Epoch 96/100\n",
      "698/698 - 1s - loss: 2.7033e-06 - 775ms/epoch - 1ms/step\n",
      "Epoch 97/100\n",
      "698/698 - 1s - loss: 3.1038e-06 - 747ms/epoch - 1ms/step\n",
      "Epoch 98/100\n",
      "698/698 - 1s - loss: 2.4133e-06 - 753ms/epoch - 1ms/step\n",
      "Epoch 99/100\n",
      "698/698 - 1s - loss: 2.4189e-06 - 727ms/epoch - 1ms/step\n",
      "Epoch 100/100\n",
      "698/698 - 1s - loss: 2.2140e-06 - 746ms/epoch - 1ms/step\n"
     ]
    },
    {
     "data": {
      "text/plain": [
       "<keras.callbacks.History at 0x19df42c86a0>"
      ]
     },
     "execution_count": 16,
     "metadata": {},
     "output_type": "execute_result"
    }
   ],
   "source": [
    "# LSTM for international airline passengers problem with window regression framing\n",
    "\n",
    "\n",
    "tf.random.set_seed(7)\n",
    "## Repeating the steps done for LSTM \n",
    "\n",
    "# load the dataset\n",
    "dataframe = pd.read_csv('https://raw.githubusercontent.com/nytimes/covid-19-data/master/us.csv', usecols=[1], engine='python')\n",
    "dataset = dataframe.values\n",
    "dataset = dataset.astype('float32')\n",
    "\n",
    "# normalize the dataset\n",
    "scaler = MinMaxScaler(feature_range=(0, 1))\n",
    "dataset = scaler.fit_transform(dataset)\n",
    "\n",
    "# split into train and test sets\n",
    "train_size = int(len(dataset) * 0.67)\n",
    "test_size = len(dataset) - train_size\n",
    "train, test = dataset[0:train_size,:], dataset[train_size:len(dataset),:]\n",
    "\n",
    "# reshape into X=t and Y=t+1\n",
    "look_back = 3\n",
    "trainX, trainY = get_dataset(train, look_back)\n",
    "testX, testY = get_dataset(test, look_back)\n",
    "\n",
    "# reshape input to be [samples, time steps, features]\n",
    "trainX = np.reshape(trainX, (trainX.shape[0], 1, trainX.shape[1]))\n",
    "testX = np.reshape(testX, (testX.shape[0], 1, testX.shape[1]))\n",
    "\n",
    "# create and fit the LSTM network\n",
    "model = Sequential()\n",
    "model.add(LSTM(4, input_shape=(1, look_back)))\n",
    "model.add(Dense(1))\n",
    "model.compile(loss='mean_squared_error', optimizer='adam')\n",
    "model.fit(trainX, trainY, epochs=100, batch_size=1, verbose=2)"
   ]
  },
  {
   "cell_type": "code",
   "execution_count": 17,
   "metadata": {},
   "outputs": [
    {
     "name": "stdout",
     "output_type": "stream",
     "text": [
      "Train data Score: 203504.69 RMSE\n",
      "Test data Score: 5096914.14 RMSE\n"
     ]
    },
    {
     "data": {
      "text/plain": [
       "0.00984"
      ]
     },
     "execution_count": 17,
     "metadata": {},
     "output_type": "execute_result"
    }
   ],
   "source": [
    "# Predictions \n",
    "\n",
    "trainPredict = model.predict(trainX)\n",
    "testPredict = model.predict(testX)\n",
    "\n",
    "# invert predictions\n",
    "trainPredict = scaler.inverse_transform(trainPredict)\n",
    "trainY = scaler.inverse_transform([trainY])\n",
    "testPredict = scaler.inverse_transform(testPredict)\n",
    "testY = scaler.inverse_transform([testY])\n",
    "\n",
    "# calculate root mean squared error\n",
    "trainScore = np.sqrt(mean_squared_error(trainY[0], trainPredict[:,0]))\n",
    "print('Train data Score: %.2f RMSE' % (trainScore))\n",
    "testScore = np.sqrt(mean_squared_error(testY[0], testPredict[:,0]))\n",
    "print('Test data Score: %.2f RMSE' % (testScore))\n",
    "\n",
    "error = int(np.sqrt(mean_squared_error(trainY[0], trainPredict[:,0])))\n",
    "mean = int(trainY[0].mean())\n",
    "error_rate = round((error/mean),5)\n",
    "error_rate"
   ]
  },
  {
   "cell_type": "code",
   "execution_count": 18,
   "metadata": {},
   "outputs": [
    {
     "data": {
      "image/png": "[encoded data removed]",
      "text/plain": [
       "<Figure size 432x288 with 1 Axes>"
      ]
     },
     "metadata": {
      "needs_background": "light"
     },
     "output_type": "display_data"
    }
   ],
   "source": [
    "## Plotting Predictions\n",
    "\n",
    "# shift train predictions for plotting\n",
    "trainPredictPlot = np.empty_like(dataset)\n",
    "trainPredictPlot[:, :] = np.nan\n",
    "trainPredictPlot[look_back:len(trainPredict)+look_back, :] = trainPredict\n",
    "\n",
    "#shift test predictions for plotting\n",
    "testPredictPlot = np.empty_like(dataset)\n",
    "testPredictPlot[:, :] = np.nan\n",
    "testPredictPlot[len(trainPredict)+(look_back*2)+1:len(dataset)-1, :] = testPredict\n",
    "\n",
    "# plot baseline and predictions\n",
    "plt.plot(scaler.inverse_transform(dataset), color = 'green')\n",
    "plt.plot(trainPredictPlot,color = 'black')\n",
    "plt.plot(testPredictPlot, color = 'red')\n",
    "plt.title(\"Baseline vs Predictions: LSTM Window\")\n",
    "plt.show()"
   ]
  },
  {
   "cell_type": "code",
   "execution_count": 19,
   "metadata": {
    "id": "MG9RY9IIs0e_"
   },
   "outputs": [],
   "source": [
    "def adf_test(series,title=''):\n",
    "\n",
    "    print(f'Augmented Dickey-Fuller Test: {title}')\n",
    "    result = adfuller(series.dropna(),autolag='AIC') \n",
    "    \n",
    "    labels = ['ADF test statistic','p-value','# lags used','# observations']\n",
    "    out = pd.Series(result[0:4],index=labels)\n",
    "\n",
    "    for key,val in result[4].items():\n",
    "        out[f'critical value ({key})']=val\n",
    "        \n",
    "    print(out.to_string()) \n",
    "    \n",
    "    if result[1] <= 0.05:\n",
    "        print(\"Strong evidence against the null hypothesis\")\n",
    "        print(\"Reject the null hypothesis\\nData has no unit root and Stationary\")\n",
    "    else:\n",
    "        print(\"Weak evidence against the null hypothesis\")\n",
    "        print(\"Fail to reject the null hypothesis\\nData has a unit root and is Non-Stationary\")"
   ]
  },
  {
   "cell_type": "code",
   "execution_count": 20,
   "metadata": {
    "colab": {
     "base_uri": "https://localhost:8080/"
    },
    "id": "1nl5o2Aas0ly",
    "outputId": "d9b1053f-7eac-4dd1-c7a9-9b6350232997"
   },
   "outputs": [
    {
     "name": "stdout",
     "output_type": "stream",
     "text": [
      "Augmented Dickey-Fuller Test: \n",
      "ADF test statistic         0.431061\n",
      "p-value                    0.982620\n",
      "# lags used               22.000000\n",
      "# observations          1026.000000\n",
      "critical value (1%)       -3.436740\n",
      "critical value (5%)       -2.864361\n",
      "critical value (10%)      -2.568272\n",
      "Weak evidence against the null hypothesis\n",
      "Fail to reject the null hypothesis\n",
      "Data has a unit root and is Non-Stationary\n"
     ]
    }
   ],
   "source": [
    "adf_test(covid_df['cases'])"
   ]
  },
  {
   "cell_type": "markdown",
   "metadata": {
    "id": "AN7uQ3a25yfZ"
   },
   "source": [
    "We can see that our data is non-stationary by looking at the Augmented Dickey-Fuller Test results. We must change our from non-stationary to stationary in order for time series analysis to "
   ]
  },
  {
   "cell_type": "code",
   "execution_count": 21,
   "metadata": {
    "colab": {
     "base_uri": "https://localhost:8080/",
     "height": 959
    },
    "id": "kkZ7lDlbs0sV",
    "outputId": "b3437f41-cf25-45a1-caae-26be5bb01fd8"
   },
   "outputs": [
    {
     "name": "stdout",
     "output_type": "stream",
     "text": [
      "Performing stepwise search to minimize aic\n",
      " ARIMA(0,2,0)(0,0,0)[0] intercept   : AIC=26763.500, Time=0.05 sec\n",
      " ARIMA(1,2,0)(0,0,0)[0] intercept   : AIC=26647.192, Time=0.02 sec\n",
      " ARIMA(0,2,1)(0,0,0)[0] intercept   : AIC=26418.448, Time=0.06 sec\n",
      " ARIMA(0,2,0)(0,0,0)[0]             : AIC=26761.502, Time=0.01 sec\n",
      " ARIMA(1,2,1)(0,0,0)[0] intercept   : AIC=26405.710, Time=0.12 sec\n",
      " ARIMA(2,2,1)(0,0,0)[0] intercept   : AIC=26371.976, Time=0.15 sec\n",
      " ARIMA(2,2,0)(0,0,0)[0] intercept   : AIC=26503.666, Time=0.04 sec\n",
      " ARIMA(3,2,1)(0,0,0)[0] intercept   : AIC=26371.795, Time=0.26 sec\n",
      " ARIMA(3,2,0)(0,0,0)[0] intercept   : AIC=26463.799, Time=0.08 sec\n",
      " ARIMA(3,2,2)(0,0,0)[0] intercept   : AIC=26084.977, Time=1.62 sec\n",
      " ARIMA(2,2,2)(0,0,0)[0] intercept   : AIC=26124.051, Time=0.60 sec\n",
      " ARIMA(3,2,3)(0,0,0)[0] intercept   : AIC=26218.634, Time=1.26 sec\n",
      " ARIMA(2,2,3)(0,0,0)[0] intercept   : AIC=26321.674, Time=1.06 sec\n",
      " ARIMA(3,2,2)(0,0,0)[0]             : AIC=26082.836, Time=1.21 sec\n",
      " ARIMA(2,2,2)(0,0,0)[0]             : AIC=26121.982, Time=0.51 sec\n",
      " ARIMA(3,2,1)(0,0,0)[0]             : AIC=26369.800, Time=0.21 sec\n",
      " ARIMA(3,2,3)(0,0,0)[0]             : AIC=26216.638, Time=1.20 sec\n",
      " ARIMA(2,2,1)(0,0,0)[0]             : AIC=26369.980, Time=0.13 sec\n",
      " ARIMA(2,2,3)(0,0,0)[0]             : AIC=26319.677, Time=0.97 sec\n",
      "\n",
      "Best model:  ARIMA(3,2,2)(0,0,0)[0]          \n",
      "Total fit time: 9.585 seconds\n"
     ]
    },
    {
     "data": {
      "text/html": [
       "<table class=\"simpletable\">\n",
       "<caption>SARIMAX Results</caption>\n",
       "<tr>\n",
       "  <th>Dep. Variable:</th>           <td>y</td>        <th>  No. Observations:  </th>    <td>1049</td>   \n",
       "</tr>\n",
       "<tr>\n",
       "  <th>Model:</th>           <td>SARIMAX(3, 2, 2)</td> <th>  Log Likelihood     </th> <td>-13035.418</td>\n",
       "</tr>\n",
       "<tr>\n",
       "  <th>Date:</th>            <td>Mon, 05 Dec 2022</td> <th>  AIC                </th>  <td>26082.836</td>\n",
       "</tr>\n",
       "<tr>\n",
       "  <th>Time:</th>                <td>21:42:51</td>     <th>  BIC                </th>  <td>26112.558</td>\n",
       "</tr>\n",
       "<tr>\n",
       "  <th>Sample:</th>                  <td>0</td>        <th>  HQIC               </th>  <td>26094.107</td>\n",
       "</tr>\n",
       "<tr>\n",
       "  <th></th>                      <td> - 1049</td>     <th>                     </th>      <td> </td>    \n",
       "</tr>\n",
       "<tr>\n",
       "  <th>Covariance Type:</th>        <td>opg</td>       <th>                     </th>      <td> </td>    \n",
       "</tr>\n",
       "</table>\n",
       "<table class=\"simpletable\">\n",
       "<tr>\n",
       "     <td></td>       <th>coef</th>     <th>std err</th>      <th>z</th>      <th>P>|z|</th>  <th>[0.025</th>    <th>0.975]</th>  \n",
       "</tr>\n",
       "<tr>\n",
       "  <th>ar.L1</th>  <td>    0.7610</td> <td>    0.008</td> <td>   92.499</td> <td> 0.000</td> <td>    0.745</td> <td>    0.777</td>\n",
       "</tr>\n",
       "<tr>\n",
       "  <th>ar.L2</th>  <td>   -0.3928</td> <td>    0.008</td> <td>  -47.229</td> <td> 0.000</td> <td>   -0.409</td> <td>   -0.377</td>\n",
       "</tr>\n",
       "<tr>\n",
       "  <th>ar.L3</th>  <td>   -0.2471</td> <td>    0.010</td> <td>  -24.231</td> <td> 0.000</td> <td>   -0.267</td> <td>   -0.227</td>\n",
       "</tr>\n",
       "<tr>\n",
       "  <th>ma.L1</th>  <td>   -1.6285</td> <td>    0.007</td> <td> -247.312</td> <td> 0.000</td> <td>   -1.641</td> <td>   -1.616</td>\n",
       "</tr>\n",
       "<tr>\n",
       "  <th>ma.L2</th>  <td>    0.9297</td> <td>    0.006</td> <td>  159.714</td> <td> 0.000</td> <td>    0.918</td> <td>    0.941</td>\n",
       "</tr>\n",
       "<tr>\n",
       "  <th>sigma2</th> <td> 3.153e+09</td> <td> 1.27e-12</td> <td> 2.48e+21</td> <td> 0.000</td> <td> 3.15e+09</td> <td> 3.15e+09</td>\n",
       "</tr>\n",
       "</table>\n",
       "<table class=\"simpletable\">\n",
       "<tr>\n",
       "  <th>Ljung-Box (L1) (Q):</th>     <td>4.70</td>  <th>  Jarque-Bera (JB):  </th> <td>28534.09</td>\n",
       "</tr>\n",
       "<tr>\n",
       "  <th>Prob(Q):</th>                <td>0.03</td>  <th>  Prob(JB):          </th>   <td>0.00</td>  \n",
       "</tr>\n",
       "<tr>\n",
       "  <th>Heteroskedasticity (H):</th> <td>36.39</td> <th>  Skew:              </th>   <td>0.69</td>  \n",
       "</tr>\n",
       "<tr>\n",
       "  <th>Prob(H) (two-sided):</th>    <td>0.00</td>  <th>  Kurtosis:          </th>   <td>28.54</td> \n",
       "</tr>\n",
       "</table><br/><br/>Warnings:<br/>[1] Covariance matrix calculated using the outer product of gradients (complex-step).<br/>[2] Covariance matrix is singular or near-singular, with condition number 5.03e+36. Standard errors may be unstable."
      ],
      "text/plain": [
       "<class 'statsmodels.iolib.summary.Summary'>\n",
       "\"\"\"\n",
       "                               SARIMAX Results                                \n",
       "==============================================================================\n",
       "Dep. Variable:                      y   No. Observations:                 1049\n",
       "Model:               SARIMAX(3, 2, 2)   Log Likelihood              -13035.418\n",
       "Date:                Mon, 05 Dec 2022   AIC                          26082.836\n",
       "Time:                        21:42:51   BIC                          26112.558\n",
       "Sample:                             0   HQIC                         26094.107\n",
       "                               - 1049                                         \n",
       "Covariance Type:                  opg                                         \n",
       "==============================================================================\n",
       "                 coef    std err          z      P>|z|      [0.025      0.975]\n",
       "------------------------------------------------------------------------------\n",
       "ar.L1          0.7610      0.008     92.499      0.000       0.745       0.777\n",
       "ar.L2         -0.3928      0.008    -47.229      0.000      -0.409      -0.377\n",
       "ar.L3         -0.2471      0.010    -24.231      0.000      -0.267      -0.227\n",
       "ma.L1         -1.6285      0.007   -247.312      0.000      -1.641      -1.616\n",
       "ma.L2          0.9297      0.006    159.714      0.000       0.918       0.941\n",
       "sigma2      3.153e+09   1.27e-12   2.48e+21      0.000    3.15e+09    3.15e+09\n",
       "===================================================================================\n",
       "Ljung-Box (L1) (Q):                   4.70   Jarque-Bera (JB):             28534.09\n",
       "Prob(Q):                              0.03   Prob(JB):                         0.00\n",
       "Heteroskedasticity (H):              36.39   Skew:                             0.69\n",
       "Prob(H) (two-sided):                  0.00   Kurtosis:                        28.54\n",
       "===================================================================================\n",
       "\n",
       "Warnings:\n",
       "[1] Covariance matrix calculated using the outer product of gradients (complex-step).\n",
       "[2] Covariance matrix is singular or near-singular, with condition number 5.03e+36. Standard errors may be unstable.\n",
       "\"\"\""
      ]
     },
     "execution_count": 21,
     "metadata": {},
     "output_type": "execute_result"
    }
   ],
   "source": [
    "step_fit = auto_arima(covid_df['cases'], start_p=0, start_q=0,\n",
    "                          max_p=3, max_q=3, m=3,\n",
    "                          seasonal=False,\n",
    "                          d=None, trace=True,\n",
    "                          error_action='ignore',  \n",
    "                          suppress_warnings=True, \n",
    "                          stepwise=True)           \n",
    "\n",
    "step_fit.summary()"
   ]
  },
  {
   "cell_type": "code",
   "execution_count": 22,
   "metadata": {
    "colab": {
     "base_uri": "https://localhost:8080/"
    },
    "id": "7a-f4C3FfeaB",
    "outputId": "d3de9f0f-f105-496f-964c-aae08fd0baae"
   },
   "outputs": [
    {
     "name": "stdout",
     "output_type": "stream",
     "text": [
      "Augmented Dickey-Fuller Test: \n",
      "ADF test statistic     -6.054855e+00\n",
      "p-value                 1.252234e-07\n",
      "# lags used             2.000000e+01\n",
      "# observations          1.026000e+03\n",
      "critical value (1%)    -3.436740e+00\n",
      "critical value (5%)    -2.864361e+00\n",
      "critical value (10%)   -2.568272e+00\n",
      "Strong evidence against the null hypothesis\n",
      "Reject the null hypothesis\n",
      "Data has no unit root and Stationary\n"
     ]
    }
   ],
   "source": [
    "covid_df['cases_diff3'] = diff(covid_df['cases'],k_diff=2)\n",
    "\n",
    "adf_test(covid_df['cases_diff3'])"
   ]
  },
  {
   "cell_type": "markdown",
   "metadata": {
    "id": "DaHu9Sco4WQi"
   },
   "source": [
    "**AutoCorrelation Plot**"
   ]
  },
  {
   "cell_type": "code",
   "execution_count": 23,
   "metadata": {
    "colab": {
     "base_uri": "https://localhost:8080/",
     "height": 281
    },
    "id": "dQSLBYCettrD",
    "outputId": "5c34d080-84d4-4966-c64c-0584e37c8ee5"
   },
   "outputs": [
    {
     "data": {
      "image/png": "[encoded data removed]",
      "text/plain": [
       "<Figure size 432x288 with 1 Axes>"
      ]
     },
     "metadata": {
      "needs_background": "light"
     },
     "output_type": "display_data"
    }
   ],
   "source": [
    "title = 'Autocorrelation: US Covid Cases'\n",
    "lags = 40\n",
    "plot_acf(covid_df['cases'],title=title,lags=lags, color = 'pink');"
   ]
  },
  {
   "cell_type": "markdown",
   "metadata": {
    "id": "yREsBZIZ4dSc"
   },
   "source": [
    "**Partial AutoCorrelation Plot**"
   ]
  },
  {
   "cell_type": "code",
   "execution_count": 24,
   "metadata": {
    "colab": {
     "base_uri": "https://localhost:8080/",
     "height": 281
    },
    "id": "RDgeDWUCttmX",
    "outputId": "53d51fa7-4c93-4438-a015-a0e0a5d802cb"
   },
   "outputs": [
    {
     "data": {
      "image/png": "[encoded data removed]",
      "text/plain": [
       "<Figure size 432x288 with 1 Axes>"
      ]
     },
     "metadata": {
      "needs_background": "light"
     },
     "output_type": "display_data"
    }
   ],
   "source": [
    "title = 'Partial Autocorrelation: US Covid Cases'\n",
    "lags = 40\n",
    "plot_pacf(covid_df['cases'],title=title,lags=lags, color ='pink');"
   ]
  },
  {
   "cell_type": "markdown",
   "metadata": {
    "id": "8HfRkvM44kLH"
   },
   "source": [
    "**Testing the ARIMA Model on a small sample of data**"
   ]
  },
  {
   "cell_type": "code",
   "execution_count": 25,
   "metadata": {
    "colab": {
     "base_uri": "https://localhost:8080/",
     "height": 442
    },
    "id": "vTYbNdQqt2gT",
    "outputId": "4b8d1d8b-c3b2-47ab-a29e-4ddb86e2f57e"
   },
   "outputs": [
    {
     "data": {
      "text/html": [
       "<table class=\"simpletable\">\n",
       "<caption>ARIMA Model Results</caption>\n",
       "<tr>\n",
       "  <th>Dep. Variable:</th>     <td>D2.cases</td>     <th>  No. Observations:  </th>     <td>997</td>   \n",
       "</tr>\n",
       "<tr>\n",
       "  <th>Model:</th>          <td>ARIMA(2, 2, 2)</td>  <th>  Log Likelihood     </th> <td>-12444.901</td>\n",
       "</tr>\n",
       "<tr>\n",
       "  <th>Method:</th>             <td>css-mle</td>     <th>  S.D. of innovations</th>  <td>63684.459</td>\n",
       "</tr>\n",
       "<tr>\n",
       "  <th>Date:</th>          <td>Mon, 05 Dec 2022</td> <th>  AIC                </th>  <td>24901.802</td>\n",
       "</tr>\n",
       "<tr>\n",
       "  <th>Time:</th>              <td>21:42:52</td>     <th>  BIC                </th>  <td>24931.231</td>\n",
       "</tr>\n",
       "<tr>\n",
       "  <th>Sample:</th>           <td>01-23-2020</td>    <th>  HQIC               </th>  <td>24912.989</td>\n",
       "</tr>\n",
       "<tr>\n",
       "  <th></th>                 <td>- 10-15-2022</td>   <th>                     </th>      <td> </td>    \n",
       "</tr>\n",
       "</table>\n",
       "<table class=\"simpletable\">\n",
       "<tr>\n",
       "         <td></td>           <th>coef</th>     <th>std err</th>      <th>z</th>      <th>P>|z|</th>  <th>[0.025</th>    <th>0.975]</th>  \n",
       "</tr>\n",
       "<tr>\n",
       "  <th>const</th>          <td>    2.7844</td> <td>  711.958</td> <td>    0.004</td> <td> 0.997</td> <td>-1392.629</td> <td> 1398.197</td>\n",
       "</tr>\n",
       "<tr>\n",
       "  <th>ar.L1.D2.cases</th> <td>    0.8785</td> <td>    0.029</td> <td>   30.296</td> <td> 0.000</td> <td>    0.822</td> <td>    0.935</td>\n",
       "</tr>\n",
       "<tr>\n",
       "  <th>ar.L2.D2.cases</th> <td>   -0.5006</td> <td>    0.037</td> <td>  -13.622</td> <td> 0.000</td> <td>   -0.573</td> <td>   -0.429</td>\n",
       "</tr>\n",
       "<tr>\n",
       "  <th>ma.L1.D2.cases</th> <td>   -1.6906</td> <td>    0.019</td> <td>  -87.733</td> <td> 0.000</td> <td>   -1.728</td> <td>   -1.653</td>\n",
       "</tr>\n",
       "<tr>\n",
       "  <th>ma.L2.D2.cases</th> <td>    0.9103</td> <td>    0.011</td> <td>   82.590</td> <td> 0.000</td> <td>    0.889</td> <td>    0.932</td>\n",
       "</tr>\n",
       "</table>\n",
       "<table class=\"simpletable\">\n",
       "<caption>Roots</caption>\n",
       "<tr>\n",
       "    <td></td>   <th>            Real</th>  <th>         Imaginary</th> <th>         Modulus</th>  <th>        Frequency</th>\n",
       "</tr>\n",
       "<tr>\n",
       "  <th>AR.1</th> <td>           0.8774</td> <td>          -1.1080j</td> <td>           1.4133</td> <td>          -0.1434</td>\n",
       "</tr>\n",
       "<tr>\n",
       "  <th>AR.2</th> <td>           0.8774</td> <td>          +1.1080j</td> <td>           1.4133</td> <td>           0.1434</td>\n",
       "</tr>\n",
       "<tr>\n",
       "  <th>MA.1</th> <td>           0.9286</td> <td>          -0.4860j</td> <td>           1.0481</td> <td>          -0.0767</td>\n",
       "</tr>\n",
       "<tr>\n",
       "  <th>MA.2</th> <td>           0.9286</td> <td>          +0.4860j</td> <td>           1.0481</td> <td>           0.0767</td>\n",
       "</tr>\n",
       "</table>"
      ],
      "text/plain": [
       "<class 'statsmodels.iolib.summary.Summary'>\n",
       "\"\"\"\n",
       "                             ARIMA Model Results                              \n",
       "==============================================================================\n",
       "Dep. Variable:               D2.cases   No. Observations:                  997\n",
       "Model:                 ARIMA(2, 2, 2)   Log Likelihood              -12444.901\n",
       "Method:                       css-mle   S.D. of innovations          63684.459\n",
       "Date:                Mon, 05 Dec 2022   AIC                          24901.802\n",
       "Time:                        21:42:52   BIC                          24931.231\n",
       "Sample:                    01-23-2020   HQIC                         24912.989\n",
       "                         - 10-15-2022                                         \n",
       "==================================================================================\n",
       "                     coef    std err          z      P>|z|      [0.025      0.975]\n",
       "----------------------------------------------------------------------------------\n",
       "const              2.7844    711.958      0.004      0.997   -1392.629    1398.197\n",
       "ar.L1.D2.cases     0.8785      0.029     30.296      0.000       0.822       0.935\n",
       "ar.L2.D2.cases    -0.5006      0.037    -13.622      0.000      -0.573      -0.429\n",
       "ma.L1.D2.cases    -1.6906      0.019    -87.733      0.000      -1.728      -1.653\n",
       "ma.L2.D2.cases     0.9103      0.011     82.590      0.000       0.889       0.932\n",
       "                                    Roots                                    \n",
       "=============================================================================\n",
       "                  Real          Imaginary           Modulus         Frequency\n",
       "-----------------------------------------------------------------------------\n",
       "AR.1            0.8774           -1.1080j            1.4133           -0.1434\n",
       "AR.2            0.8774           +1.1080j            1.4133            0.1434\n",
       "MA.1            0.9286           -0.4860j            1.0481           -0.0767\n",
       "MA.2            0.9286           +0.4860j            1.0481            0.0767\n",
       "-----------------------------------------------------------------------------\n",
       "\"\"\""
      ]
     },
     "execution_count": 25,
     "metadata": {},
     "output_type": "execute_result"
    }
   ],
   "source": [
    "l = len(covid_df)\n",
    "train = covid_df.iloc[:l-50]\n",
    "test = covid_df.iloc[l-50:]\n",
    "\n",
    "model = ARIMA(train['cases'],order=(2,2,2))\n",
    "results = model.fit()\n",
    "results.summary()"
   ]
  },
  {
   "cell_type": "code",
   "execution_count": 26,
   "metadata": {
    "id": "wQrgX9N-w3In"
   },
   "outputs": [],
   "source": [
    "start=len(train)\n",
    "end=len(train)+len(test)-1\n",
    "predictions = results.predict(start=start, end=end, dynamic=False, typ='levels').rename('ARIMA(2,2,2) Predictions')"
   ]
  },
  {
   "cell_type": "code",
   "execution_count": 27,
   "metadata": {
    "colab": {
     "base_uri": "https://localhost:8080/",
     "height": 439
    },
    "id": "z2DchbYWw3GS",
    "outputId": "d222662f-a371-4250-aef8-7974b8f01b60"
   },
   "outputs": [
    {
     "data": {
      "image/png": "[encoded data removed]",
      "text/plain": [
       "<Figure size 864x432 with 1 Axes>"
      ]
     },
     "metadata": {
      "needs_background": "light"
     },
     "output_type": "display_data"
    }
   ],
   "source": [
    "title = 'U.S. Covid-19 Cases'\n",
    "ylabel='Cases'\n",
    "\n",
    "ax = test['cases'].plot(legend=True,figsize=(12,6),title=title,color = 'red')\n",
    "predictions.plot(legend=True,color='green')\n",
    "ax.autoscale(axis='x',tight=True)\n",
    "ax.set(xlabel='xlabel', ylabel=ylabel);"
   ]
  },
  {
   "cell_type": "code",
   "execution_count": 28,
   "metadata": {
    "colab": {
     "base_uri": "https://localhost:8080/",
     "height": 576
    },
    "id": "k4uQn06Aw9dx",
    "outputId": "9c17e6ec-e321-40a2-c1e6-15a7e065f042"
   },
   "outputs": [
    {
     "data": {
      "text/html": [
       "<table class=\"simpletable\">\n",
       "<caption>SARIMAX Results</caption>\n",
       "<tr>\n",
       "  <th>Dep. Variable:</th>                <td>cases</td>             <th>  No. Observations:  </th>     <td>999</td>   \n",
       "</tr>\n",
       "<tr>\n",
       "  <th>Model:</th>           <td>SARIMAX(2, 2, 2)x(2, 2, 2, 15)</td> <th>  Log Likelihood     </th> <td>-12610.820</td>\n",
       "</tr>\n",
       "<tr>\n",
       "  <th>Date:</th>                   <td>Mon, 05 Dec 2022</td>        <th>  AIC                </th>  <td>25239.641</td>\n",
       "</tr>\n",
       "<tr>\n",
       "  <th>Time:</th>                       <td>21:44:19</td>            <th>  BIC                </th>  <td>25283.508</td>\n",
       "</tr>\n",
       "<tr>\n",
       "  <th>Sample:</th>                    <td>01-21-2020</td>           <th>  HQIC               </th>  <td>25256.341</td>\n",
       "</tr>\n",
       "<tr>\n",
       "  <th></th>                          <td>- 10-15-2022</td>          <th>                     </th>      <td> </td>    \n",
       "</tr>\n",
       "<tr>\n",
       "  <th>Covariance Type:</th>               <td>opg</td>              <th>                     </th>      <td> </td>    \n",
       "</tr>\n",
       "</table>\n",
       "<table class=\"simpletable\">\n",
       "<tr>\n",
       "      <td></td>        <th>coef</th>     <th>std err</th>      <th>z</th>      <th>P>|z|</th>  <th>[0.025</th>    <th>0.975]</th>  \n",
       "</tr>\n",
       "<tr>\n",
       "  <th>ar.L1</th>    <td>   -0.0363</td> <td>    0.171</td> <td>   -0.212</td> <td> 0.832</td> <td>   -0.372</td> <td>    0.300</td>\n",
       "</tr>\n",
       "<tr>\n",
       "  <th>ar.L2</th>    <td>   -0.2645</td> <td>    0.051</td> <td>   -5.217</td> <td> 0.000</td> <td>   -0.364</td> <td>   -0.165</td>\n",
       "</tr>\n",
       "<tr>\n",
       "  <th>ma.L1</th>    <td>   -0.6792</td> <td>    0.180</td> <td>   -3.771</td> <td> 0.000</td> <td>   -1.032</td> <td>   -0.326</td>\n",
       "</tr>\n",
       "<tr>\n",
       "  <th>ma.L2</th>    <td>    0.0187</td> <td>    0.141</td> <td>    0.133</td> <td> 0.894</td> <td>   -0.257</td> <td>    0.294</td>\n",
       "</tr>\n",
       "<tr>\n",
       "  <th>ar.S.L15</th> <td>   -1.2098</td> <td>    0.188</td> <td>   -6.445</td> <td> 0.000</td> <td>   -1.578</td> <td>   -0.842</td>\n",
       "</tr>\n",
       "<tr>\n",
       "  <th>ar.S.L30</th> <td>   -0.4066</td> <td>    0.079</td> <td>   -5.171</td> <td> 0.000</td> <td>   -0.561</td> <td>   -0.252</td>\n",
       "</tr>\n",
       "<tr>\n",
       "  <th>ma.S.L15</th> <td>   -0.1420</td> <td>    0.182</td> <td>   -0.778</td> <td> 0.437</td> <td>   -0.500</td> <td>    0.216</td>\n",
       "</tr>\n",
       "<tr>\n",
       "  <th>ma.S.L30</th> <td>   -0.7864</td> <td>    0.185</td> <td>   -4.255</td> <td> 0.000</td> <td>   -1.149</td> <td>   -0.424</td>\n",
       "</tr>\n",
       "<tr>\n",
       "  <th>sigma2</th>   <td> 2.284e+10</td> <td> 3.27e-11</td> <td> 6.99e+20</td> <td> 0.000</td> <td> 2.28e+10</td> <td> 2.28e+10</td>\n",
       "</tr>\n",
       "</table>\n",
       "<table class=\"simpletable\">\n",
       "<tr>\n",
       "  <th>Ljung-Box (L1) (Q):</th>     <td>0.00</td>  <th>  Jarque-Bera (JB):  </th> <td>21511.86</td>\n",
       "</tr>\n",
       "<tr>\n",
       "  <th>Prob(Q):</th>                <td>0.99</td>  <th>  Prob(JB):          </th>   <td>0.00</td>  \n",
       "</tr>\n",
       "<tr>\n",
       "  <th>Heteroskedasticity (H):</th> <td>58.93</td> <th>  Skew:              </th>   <td>0.21</td>  \n",
       "</tr>\n",
       "<tr>\n",
       "  <th>Prob(H) (two-sided):</th>    <td>0.00</td>  <th>  Kurtosis:          </th>   <td>26.10</td> \n",
       "</tr>\n",
       "</table><br/><br/>Warnings:<br/>[1] Covariance matrix calculated using the outer product of gradients (complex-step).<br/>[2] Covariance matrix is singular or near-singular, with condition number 8.38e+36. Standard errors may be unstable."
      ],
      "text/plain": [
       "<class 'statsmodels.iolib.summary.Summary'>\n",
       "\"\"\"\n",
       "                                     SARIMAX Results                                      \n",
       "==========================================================================================\n",
       "Dep. Variable:                              cases   No. Observations:                  999\n",
       "Model:             SARIMAX(2, 2, 2)x(2, 2, 2, 15)   Log Likelihood              -12610.820\n",
       "Date:                            Mon, 05 Dec 2022   AIC                          25239.641\n",
       "Time:                                    21:44:19   BIC                          25283.508\n",
       "Sample:                                01-21-2020   HQIC                         25256.341\n",
       "                                     - 10-15-2022                                         \n",
       "Covariance Type:                              opg                                         \n",
       "==============================================================================\n",
       "                 coef    std err          z      P>|z|      [0.025      0.975]\n",
       "------------------------------------------------------------------------------\n",
       "ar.L1         -0.0363      0.171     -0.212      0.832      -0.372       0.300\n",
       "ar.L2         -0.2645      0.051     -5.217      0.000      -0.364      -0.165\n",
       "ma.L1         -0.6792      0.180     -3.771      0.000      -1.032      -0.326\n",
       "ma.L2          0.0187      0.141      0.133      0.894      -0.257       0.294\n",
       "ar.S.L15      -1.2098      0.188     -6.445      0.000      -1.578      -0.842\n",
       "ar.S.L30      -0.4066      0.079     -5.171      0.000      -0.561      -0.252\n",
       "ma.S.L15      -0.1420      0.182     -0.778      0.437      -0.500       0.216\n",
       "ma.S.L30      -0.7864      0.185     -4.255      0.000      -1.149      -0.424\n",
       "sigma2      2.284e+10   3.27e-11   6.99e+20      0.000    2.28e+10    2.28e+10\n",
       "===================================================================================\n",
       "Ljung-Box (L1) (Q):                   0.00   Jarque-Bera (JB):             21511.86\n",
       "Prob(Q):                              0.99   Prob(JB):                         0.00\n",
       "Heteroskedasticity (H):              58.93   Skew:                             0.21\n",
       "Prob(H) (two-sided):                  0.00   Kurtosis:                        26.10\n",
       "===================================================================================\n",
       "\n",
       "Warnings:\n",
       "[1] Covariance matrix calculated using the outer product of gradients (complex-step).\n",
       "[2] Covariance matrix is singular or near-singular, with condition number 8.38e+36. Standard errors may be unstable.\n",
       "\"\"\""
      ]
     },
     "execution_count": 28,
     "metadata": {},
     "output_type": "execute_result"
    }
   ],
   "source": [
    "model_s = SARIMAX(train['cases'],order=(2,2,2),seasonal_order=(2,2,2,15))\n",
    "results_s = model_s.fit()\n",
    "results_s.summary()"
   ]
  },
  {
   "cell_type": "code",
   "execution_count": 29,
   "metadata": {
    "colab": {
     "base_uri": "https://localhost:8080/"
    },
    "id": "5czVTJ93xB-_",
    "outputId": "5ea36a44-6f64-4b04-d29d-444b90c3381e"
   },
   "outputs": [
    {
     "name": "stdout",
     "output_type": "stream",
     "text": [
      "error:  77855  mean:  97656327  error rate:  0.0008\n"
     ]
    }
   ],
   "source": [
    "error = int(np.sqrt(mean_squared_error(test.cases,predictions)))\n",
    "mean = int(test.cases.mean())\n",
    "error_rate = round((error/mean),5)\n",
    "print('error: ', error, ' mean: ', mean,' error rate: ', error_rate)"
   ]
  },
  {
   "cell_type": "markdown",
   "metadata": {
    "id": "9wRh6eX-5ADV"
   },
   "source": [
    "Let's now train the ARIMA and SARIMA models on the full dataset using the optimum configuration we discovered using the above-mentioned processes to predict the number of cases in the future."
   ]
  },
  {
   "cell_type": "code",
   "execution_count": 31,
   "metadata": {
    "colab": {
     "base_uri": "https://localhost:8080/",
     "height": 288
    },
    "id": "WLgmLQrifm6Z",
    "outputId": "eea6277e-f79d-47b8-97bc-54361c26d107"
   },
   "outputs": [
    {
     "data": {
      "image/png": "[encoded data removed]",
      "text/plain": [
       "<Figure size 432x288 with 1 Axes>"
      ]
     },
     "metadata": {
      "needs_background": "light"
     },
     "output_type": "display_data"
    }
   ],
   "source": [
    "full_model = ARIMA(covid_df['cases'],order=(2,2,2))\n",
    "full_results = full_model.fit()\n",
    "fcast = full_results.plot_predict(start = int(500), end = int(len(covid_df)+100)) # Using the plot_predict to get the plot of future predictions and their confidence intervals"
   ]
  },
  {
   "cell_type": "code",
   "execution_count": 32,
   "metadata": {
    "id": "W0qxC2uUao5N"
   },
   "outputs": [],
   "source": [
    "full_model1 = SARIMAX(covid_df['cases'],order=(2,2,2),seasonal_order=(2,2,2,15))\n",
    "full_results1 = full_model1.fit(disp=True)\n",
    "c = full_results1.get_forecast(100)\n",
    "pred = full_results1.predict(start = int(len(covid_df)),end=int(len(covid_df)+100))"
   ]
  },
  {
   "cell_type": "code",
   "execution_count": 33,
   "metadata": {
    "colab": {
     "base_uri": "https://localhost:8080/",
     "height": 348
    },
    "id": "61-iD3P9vWa6",
    "outputId": "4a8af1b7-b795-4b2e-89bc-147190acf08a"
   },
   "outputs": [
    {
     "data": {
      "text/plain": [
       "<matplotlib.legend.Legend at 0x19dfa6fc310>"
      ]
     },
     "execution_count": 33,
     "metadata": {},
     "output_type": "execute_result"
    },
    {
     "data": {
      "image/png": "[encoded data removed]",
      "text/plain": [
       "<Figure size 720x360 with 1 Axes>"
      ]
     },
     "metadata": {
      "needs_background": "light"
     },
     "output_type": "display_data"
    }
   ],
   "source": [
    "# for sarimax, there is no in-built function like plot_predict which gives the confidence interval with the predictions. So, we have used conf_int to first get the confidence intervals and then plot them using matplotlib.\n",
    "\n",
    "plt.figure(figsize=(10,5))\n",
    "l1, = plt.plot(covid_df['cases'], label = 'Observations',color = 'orange')\n",
    "l2, = plt.plot(pred, label = 'SARIMA')\n",
    "l3,l4 = plt.plot(c.conf_int(),label='95% CI',color='grey')\n",
    "\n",
    "plt.legend(handles=[l1, l2,l3,l4])"
   ]
  },
  {
   "cell_type": "markdown",
   "metadata": {
    "id": "iLUNzUx35k4t"
   },
   "source": [
    "Even though the error rate is 0.00098 for both the models, we can see that, as time goes on the confidence interval gets larger. Hence, we can conclude that these models are suitable for short time interval for predicting the cases in the future. "
   ]
  }
 ],
 "metadata": {
  "colab": {
   "collapsed_sections": [],
   "name": "Time_Series.ipynb",
   "provenance": []
  },
  "kernelspec": {
   "display_name": "Python 3 (ipykernel)",
   "language": "python",
   "name": "python3"
  },
  "language_info": {
   "codemirror_mode": {
    "name": "ipython",
    "version": 3
   },
   "file_extension": ".py",
   "mimetype": "text/x-python",
   "name": "python",
   "nbconvert_exporter": "python",
   "pygments_lexer": "ipython3",
   "version": "3.9.1"
  }
 },
 "nbformat": 4,
 "nbformat_minor": 1
}
