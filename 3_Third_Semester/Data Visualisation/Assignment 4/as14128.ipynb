{
 "cells": [
  {
   "cell_type": "code",
   "execution_count": 23,
   "metadata": {
    "id": "hUlItF8T_kDX"
   },
   "outputs": [],
   "source": [
    "import scipy.stats as stats\n",
    "import statsmodels.api as sm\n",
    "import numpy as np\n",
    "import pandas as pd\n",
    "\n",
    "df = pd.read_csv(\"diabetes.csv\")"
   ]
  },
  {
   "cell_type": "code",
   "execution_count": 24,
   "metadata": {
    "colab": {
     "base_uri": "https://localhost:8080/",
     "height": 206
    },
    "id": "fE6jM9RaAp47",
    "outputId": "6986475c-9cd1-410b-e39a-3ca14a531415"
   },
   "outputs": [
    {
     "data": {
      "text/html": [
       "<div>\n",
       "<style scoped>\n",
       "    .dataframe tbody tr th:only-of-type {\n",
       "        vertical-align: middle;\n",
       "    }\n",
       "\n",
       "    .dataframe tbody tr th {\n",
       "        vertical-align: top;\n",
       "    }\n",
       "\n",
       "    .dataframe thead th {\n",
       "        text-align: right;\n",
       "    }\n",
       "</style>\n",
       "<table border=\"1\" class=\"dataframe\">\n",
       "  <thead>\n",
       "    <tr style=\"text-align: right;\">\n",
       "      <th></th>\n",
       "      <th>Unnamed: 0</th>\n",
       "      <th>Treatment</th>\n",
       "      <th>HemoglobinA1C.Baseline</th>\n",
       "      <th>HemoglobinA1C.Followup</th>\n",
       "      <th>Female</th>\n",
       "      <th>Age</th>\n",
       "      <th>SBP</th>\n",
       "      <th>BMI</th>\n",
       "    </tr>\n",
       "  </thead>\n",
       "  <tbody>\n",
       "    <tr>\n",
       "      <th>0</th>\n",
       "      <td>1</td>\n",
       "      <td>False</td>\n",
       "      <td>4.9</td>\n",
       "      <td>7.1</td>\n",
       "      <td>False</td>\n",
       "      <td>43</td>\n",
       "      <td>123</td>\n",
       "      <td>25.43</td>\n",
       "    </tr>\n",
       "    <tr>\n",
       "      <th>1</th>\n",
       "      <td>2</td>\n",
       "      <td>True</td>\n",
       "      <td>5.1</td>\n",
       "      <td>5.4</td>\n",
       "      <td>False</td>\n",
       "      <td>47</td>\n",
       "      <td>128</td>\n",
       "      <td>26.28</td>\n",
       "    </tr>\n",
       "    <tr>\n",
       "      <th>2</th>\n",
       "      <td>3</td>\n",
       "      <td>True</td>\n",
       "      <td>5.1</td>\n",
       "      <td>4.3</td>\n",
       "      <td>True</td>\n",
       "      <td>55</td>\n",
       "      <td>120</td>\n",
       "      <td>28.21</td>\n",
       "    </tr>\n",
       "    <tr>\n",
       "      <th>3</th>\n",
       "      <td>4</td>\n",
       "      <td>True</td>\n",
       "      <td>5.2</td>\n",
       "      <td>5.1</td>\n",
       "      <td>True</td>\n",
       "      <td>54</td>\n",
       "      <td>132</td>\n",
       "      <td>25.98</td>\n",
       "    </tr>\n",
       "    <tr>\n",
       "      <th>4</th>\n",
       "      <td>5</td>\n",
       "      <td>True</td>\n",
       "      <td>5.2</td>\n",
       "      <td>7.1</td>\n",
       "      <td>True</td>\n",
       "      <td>40</td>\n",
       "      <td>111</td>\n",
       "      <td>26.22</td>\n",
       "    </tr>\n",
       "  </tbody>\n",
       "</table>\n",
       "</div>"
      ],
      "text/plain": [
       "   Unnamed: 0  Treatment  HemoglobinA1C.Baseline  HemoglobinA1C.Followup  \\\n",
       "0           1      False                     4.9                     7.1   \n",
       "1           2       True                     5.1                     5.4   \n",
       "2           3       True                     5.1                     4.3   \n",
       "3           4       True                     5.2                     5.1   \n",
       "4           5       True                     5.2                     7.1   \n",
       "\n",
       "   Female  Age  SBP    BMI  \n",
       "0   False   43  123  25.43  \n",
       "1   False   47  128  26.28  \n",
       "2    True   55  120  28.21  \n",
       "3    True   54  132  25.98  \n",
       "4    True   40  111  26.22  "
      ]
     },
     "execution_count": 24,
     "metadata": {},
     "output_type": "execute_result"
    }
   ],
   "source": [
    "df.head()"
   ]
  },
  {
   "cell_type": "markdown",
   "metadata": {
    "id": "MRQOwrUwc0tS"
   },
   "source": [
    "<h1>Simple regression</h1>"
   ]
  },
  {
   "cell_type": "markdown",
   "metadata": {},
   "source": [
    "### Logistic regression for HemoglobinA1C.Baseline "
   ]
  },
  {
   "cell_type": "code",
   "execution_count": 25,
   "metadata": {
    "id": "Mr1ay5CMEEiP"
   },
   "outputs": [],
   "source": [
    "df.rename(columns = {'HemoglobinA1C.Baseline':'Baseline', 'HemoglobinA1C.Followup':'Followup'}, inplace = True)"
   ]
  },
  {
   "cell_type": "code",
   "execution_count": 26,
   "metadata": {},
   "outputs": [
    {
     "data": {
      "text/html": [
       "<div>\n",
       "<style scoped>\n",
       "    .dataframe tbody tr th:only-of-type {\n",
       "        vertical-align: middle;\n",
       "    }\n",
       "\n",
       "    .dataframe tbody tr th {\n",
       "        vertical-align: top;\n",
       "    }\n",
       "\n",
       "    .dataframe thead th {\n",
       "        text-align: right;\n",
       "    }\n",
       "</style>\n",
       "<table border=\"1\" class=\"dataframe\">\n",
       "  <thead>\n",
       "    <tr style=\"text-align: right;\">\n",
       "      <th></th>\n",
       "      <th>Unnamed: 0</th>\n",
       "      <th>Treatment</th>\n",
       "      <th>Baseline</th>\n",
       "      <th>Followup</th>\n",
       "      <th>Female</th>\n",
       "      <th>Age</th>\n",
       "      <th>SBP</th>\n",
       "      <th>BMI</th>\n",
       "    </tr>\n",
       "  </thead>\n",
       "  <tbody>\n",
       "    <tr>\n",
       "      <th>0</th>\n",
       "      <td>1</td>\n",
       "      <td>False</td>\n",
       "      <td>4.9</td>\n",
       "      <td>7.1</td>\n",
       "      <td>False</td>\n",
       "      <td>43</td>\n",
       "      <td>123</td>\n",
       "      <td>25.43</td>\n",
       "    </tr>\n",
       "    <tr>\n",
       "      <th>1</th>\n",
       "      <td>2</td>\n",
       "      <td>True</td>\n",
       "      <td>5.1</td>\n",
       "      <td>5.4</td>\n",
       "      <td>False</td>\n",
       "      <td>47</td>\n",
       "      <td>128</td>\n",
       "      <td>26.28</td>\n",
       "    </tr>\n",
       "    <tr>\n",
       "      <th>2</th>\n",
       "      <td>3</td>\n",
       "      <td>True</td>\n",
       "      <td>5.1</td>\n",
       "      <td>4.3</td>\n",
       "      <td>True</td>\n",
       "      <td>55</td>\n",
       "      <td>120</td>\n",
       "      <td>28.21</td>\n",
       "    </tr>\n",
       "    <tr>\n",
       "      <th>3</th>\n",
       "      <td>4</td>\n",
       "      <td>True</td>\n",
       "      <td>5.2</td>\n",
       "      <td>5.1</td>\n",
       "      <td>True</td>\n",
       "      <td>54</td>\n",
       "      <td>132</td>\n",
       "      <td>25.98</td>\n",
       "    </tr>\n",
       "    <tr>\n",
       "      <th>4</th>\n",
       "      <td>5</td>\n",
       "      <td>True</td>\n",
       "      <td>5.2</td>\n",
       "      <td>7.1</td>\n",
       "      <td>True</td>\n",
       "      <td>40</td>\n",
       "      <td>111</td>\n",
       "      <td>26.22</td>\n",
       "    </tr>\n",
       "  </tbody>\n",
       "</table>\n",
       "</div>"
      ],
      "text/plain": [
       "   Unnamed: 0  Treatment  Baseline  Followup  Female  Age  SBP    BMI\n",
       "0           1      False       4.9       7.1   False   43  123  25.43\n",
       "1           2       True       5.1       5.4   False   47  128  26.28\n",
       "2           3       True       5.1       4.3    True   55  120  28.21\n",
       "3           4       True       5.2       5.1    True   54  132  25.98\n",
       "4           5       True       5.2       7.1    True   40  111  26.22"
      ]
     },
     "execution_count": 26,
     "metadata": {},
     "output_type": "execute_result"
    }
   ],
   "source": [
    "df.head()"
   ]
  },
  {
   "cell_type": "code",
   "execution_count": 27,
   "metadata": {
    "id": "Zzaq7LmsCoGD"
   },
   "outputs": [
    {
     "data": {
      "text/html": [
       "<table class=\"simpletable\">\n",
       "<caption>Generalized Linear Model Regression Results</caption>\n",
       "<tr>\n",
       "  <th>Dep. Variable:</th>   <td>['Treatment[False]', 'Treatment[True]']</td> <th>  No. Observations:  </th>  <td>   520</td> \n",
       "</tr>\n",
       "<tr>\n",
       "  <th>Model:</th>                             <td>GLM</td>                   <th>  Df Residuals:      </th>  <td>   518</td> \n",
       "</tr>\n",
       "<tr>\n",
       "  <th>Model Family:</th>                   <td>Binomial</td>                 <th>  Df Model:          </th>  <td>     1</td> \n",
       "</tr>\n",
       "<tr>\n",
       "  <th>Link Function:</th>                    <td>Logit</td>                  <th>  Scale:             </th> <td>  1.0000</td>\n",
       "</tr>\n",
       "<tr>\n",
       "  <th>Method:</th>                           <td>IRLS</td>                   <th>  Log-Likelihood:    </th> <td> -334.95</td>\n",
       "</tr>\n",
       "<tr>\n",
       "  <th>Date:</th>                       <td>Mon, 07 Nov 2022</td>             <th>  Deviance:          </th> <td>  669.91</td>\n",
       "</tr>\n",
       "<tr>\n",
       "  <th>Time:</th>                           <td>12:59:43</td>                 <th>  Pearson chi2:      </th>  <td>  518.</td> \n",
       "</tr>\n",
       "<tr>\n",
       "  <th>No. Iterations:</th>                     <td>4</td>                    <th>  Pseudo R-squ. (CS):</th>  <td>0.08900</td>\n",
       "</tr>\n",
       "<tr>\n",
       "  <th>Covariance Type:</th>                <td>nonrobust</td>                <th>                     </th>     <td> </td>   \n",
       "</tr>\n",
       "</table>\n",
       "<table class=\"simpletable\">\n",
       "<tr>\n",
       "      <td></td>         <th>coef</th>     <th>std err</th>      <th>z</th>      <th>P>|z|</th>  <th>[0.025</th>    <th>0.975]</th>  \n",
       "</tr>\n",
       "<tr>\n",
       "  <th>Intercept</th> <td>   -2.8424</td> <td>    0.428</td> <td>   -6.646</td> <td> 0.000</td> <td>   -3.681</td> <td>   -2.004</td>\n",
       "</tr>\n",
       "<tr>\n",
       "  <th>Baseline</th>  <td>    0.2965</td> <td>    0.046</td> <td>    6.443</td> <td> 0.000</td> <td>    0.206</td> <td>    0.387</td>\n",
       "</tr>\n",
       "</table>"
      ],
      "text/plain": [
       "<class 'statsmodels.iolib.summary.Summary'>\n",
       "\"\"\"\n",
       "                            Generalized Linear Model Regression Results                            \n",
       "===================================================================================================\n",
       "Dep. Variable:     ['Treatment[False]', 'Treatment[True]']   No. Observations:                  520\n",
       "Model:                                                 GLM   Df Residuals:                      518\n",
       "Model Family:                                     Binomial   Df Model:                            1\n",
       "Link Function:                                       Logit   Scale:                          1.0000\n",
       "Method:                                               IRLS   Log-Likelihood:                -334.95\n",
       "Date:                                     Mon, 07 Nov 2022   Deviance:                       669.91\n",
       "Time:                                             12:59:43   Pearson chi2:                     518.\n",
       "No. Iterations:                                          4   Pseudo R-squ. (CS):            0.08900\n",
       "Covariance Type:                                 nonrobust                                         \n",
       "==============================================================================\n",
       "                 coef    std err          z      P>|z|      [0.025      0.975]\n",
       "------------------------------------------------------------------------------\n",
       "Intercept     -2.8424      0.428     -6.646      0.000      -3.681      -2.004\n",
       "Baseline       0.2965      0.046      6.443      0.000       0.206       0.387\n",
       "==============================================================================\n",
       "\"\"\""
      ]
     },
     "execution_count": 27,
     "metadata": {},
     "output_type": "execute_result"
    }
   ],
   "source": [
    "model = sm.GLM.from_formula(\"Treatment ~ Baseline\", family = sm.families.Binomial(), data=df)\n",
    "res = model.fit()\n",
    "res.summary()"
   ]
  },
  {
   "cell_type": "code",
   "execution_count": 28,
   "metadata": {
    "colab": {
     "base_uri": "https://localhost:8080/",
     "height": 112
    },
    "id": "hrdCOrnNF2-d",
    "outputId": "f4e517ad-fe7c-4d3f-d3f7-660febb2204b"
   },
   "outputs": [
    {
     "data": {
      "text/html": [
       "<div>\n",
       "<style scoped>\n",
       "    .dataframe tbody tr th:only-of-type {\n",
       "        vertical-align: middle;\n",
       "    }\n",
       "\n",
       "    .dataframe tbody tr th {\n",
       "        vertical-align: top;\n",
       "    }\n",
       "\n",
       "    .dataframe thead th {\n",
       "        text-align: right;\n",
       "    }\n",
       "</style>\n",
       "<table border=\"1\" class=\"dataframe\">\n",
       "  <thead>\n",
       "    <tr style=\"text-align: right;\">\n",
       "      <th></th>\n",
       "      <th>0</th>\n",
       "      <th>1</th>\n",
       "    </tr>\n",
       "  </thead>\n",
       "  <tbody>\n",
       "    <tr>\n",
       "      <th>Intercept</th>\n",
       "      <td>-3.680709</td>\n",
       "      <td>-2.004149</td>\n",
       "    </tr>\n",
       "    <tr>\n",
       "      <th>Baseline</th>\n",
       "      <td>0.206332</td>\n",
       "      <td>0.386763</td>\n",
       "    </tr>\n",
       "  </tbody>\n",
       "</table>\n",
       "</div>"
      ],
      "text/plain": [
       "                  0         1\n",
       "Intercept -3.680709 -2.004149\n",
       "Baseline   0.206332  0.386763"
      ]
     },
     "execution_count": 28,
     "metadata": {},
     "output_type": "execute_result"
    }
   ],
   "source": [
    "res.conf_int()"
   ]
  },
  {
   "cell_type": "markdown",
   "metadata": {},
   "source": [
    "### We can observe that HemoglobinA1C.Baseline is a good predictor for Treatment since p value is less than 0.05. The confidence intervals also indicate the same."
   ]
  },
  {
   "cell_type": "markdown",
   "metadata": {},
   "source": [
    "### Logistic regression for HemoglobinA1C.Followup"
   ]
  },
  {
   "cell_type": "code",
   "execution_count": 29,
   "metadata": {
    "id": "qvv_xxtiH2c8"
   },
   "outputs": [
    {
     "data": {
      "text/html": [
       "<table class=\"simpletable\">\n",
       "<caption>Generalized Linear Model Regression Results</caption>\n",
       "<tr>\n",
       "  <th>Dep. Variable:</th>   <td>['Treatment[False]', 'Treatment[True]']</td> <th>  No. Observations:  </th>  <td>   520</td> \n",
       "</tr>\n",
       "<tr>\n",
       "  <th>Model:</th>                             <td>GLM</td>                   <th>  Df Residuals:      </th>  <td>   518</td> \n",
       "</tr>\n",
       "<tr>\n",
       "  <th>Model Family:</th>                   <td>Binomial</td>                 <th>  Df Model:          </th>  <td>     1</td> \n",
       "</tr>\n",
       "<tr>\n",
       "  <th>Link Function:</th>                    <td>Logit</td>                  <th>  Scale:             </th> <td>  1.0000</td>\n",
       "</tr>\n",
       "<tr>\n",
       "  <th>Method:</th>                           <td>IRLS</td>                   <th>  Log-Likelihood:    </th> <td> -335.13</td>\n",
       "</tr>\n",
       "<tr>\n",
       "  <th>Date:</th>                       <td>Mon, 07 Nov 2022</td>             <th>  Deviance:          </th> <td>  670.26</td>\n",
       "</tr>\n",
       "<tr>\n",
       "  <th>Time:</th>                           <td>13:00:40</td>                 <th>  Pearson chi2:      </th>  <td>  520.</td> \n",
       "</tr>\n",
       "<tr>\n",
       "  <th>No. Iterations:</th>                     <td>4</td>                    <th>  Pseudo R-squ. (CS):</th>  <td>0.08839</td>\n",
       "</tr>\n",
       "<tr>\n",
       "  <th>Covariance Type:</th>                <td>nonrobust</td>                <th>                     </th>     <td> </td>   \n",
       "</tr>\n",
       "</table>\n",
       "<table class=\"simpletable\">\n",
       "<tr>\n",
       "      <td></td>         <th>coef</th>     <th>std err</th>      <th>z</th>      <th>P>|z|</th>  <th>[0.025</th>    <th>0.975]</th>  \n",
       "</tr>\n",
       "<tr>\n",
       "  <th>Intercept</th> <td>   -2.5114</td> <td>    0.377</td> <td>   -6.655</td> <td> 0.000</td> <td>   -3.251</td> <td>   -1.772</td>\n",
       "</tr>\n",
       "<tr>\n",
       "  <th>Followup</th>  <td>    0.2872</td> <td>    0.044</td> <td>    6.486</td> <td> 0.000</td> <td>    0.200</td> <td>    0.374</td>\n",
       "</tr>\n",
       "</table>"
      ],
      "text/plain": [
       "<class 'statsmodels.iolib.summary.Summary'>\n",
       "\"\"\"\n",
       "                            Generalized Linear Model Regression Results                            \n",
       "===================================================================================================\n",
       "Dep. Variable:     ['Treatment[False]', 'Treatment[True]']   No. Observations:                  520\n",
       "Model:                                                 GLM   Df Residuals:                      518\n",
       "Model Family:                                     Binomial   Df Model:                            1\n",
       "Link Function:                                       Logit   Scale:                          1.0000\n",
       "Method:                                               IRLS   Log-Likelihood:                -335.13\n",
       "Date:                                     Mon, 07 Nov 2022   Deviance:                       670.26\n",
       "Time:                                             13:00:40   Pearson chi2:                     520.\n",
       "No. Iterations:                                          4   Pseudo R-squ. (CS):            0.08839\n",
       "Covariance Type:                                 nonrobust                                         \n",
       "==============================================================================\n",
       "                 coef    std err          z      P>|z|      [0.025      0.975]\n",
       "------------------------------------------------------------------------------\n",
       "Intercept     -2.5114      0.377     -6.655      0.000      -3.251      -1.772\n",
       "Followup       0.2872      0.044      6.486      0.000       0.200       0.374\n",
       "==============================================================================\n",
       "\"\"\""
      ]
     },
     "execution_count": 29,
     "metadata": {},
     "output_type": "execute_result"
    }
   ],
   "source": [
    "model = sm.GLM.from_formula(\"Treatment ~ Followup\", family = sm.families.Binomial(), data=df)\n",
    "res = model.fit()\n",
    "res.summary()"
   ]
  },
  {
   "cell_type": "code",
   "execution_count": 30,
   "metadata": {
    "colab": {
     "base_uri": "https://localhost:8080/",
     "height": 112
    },
    "id": "LaWdZVTpJYDU",
    "outputId": "abc3b040-922b-4914-eadf-b86b1e20fa73"
   },
   "outputs": [
    {
     "data": {
      "text/html": [
       "<div>\n",
       "<style scoped>\n",
       "    .dataframe tbody tr th:only-of-type {\n",
       "        vertical-align: middle;\n",
       "    }\n",
       "\n",
       "    .dataframe tbody tr th {\n",
       "        vertical-align: top;\n",
       "    }\n",
       "\n",
       "    .dataframe thead th {\n",
       "        text-align: right;\n",
       "    }\n",
       "</style>\n",
       "<table border=\"1\" class=\"dataframe\">\n",
       "  <thead>\n",
       "    <tr style=\"text-align: right;\">\n",
       "      <th></th>\n",
       "      <th>0</th>\n",
       "      <th>1</th>\n",
       "    </tr>\n",
       "  </thead>\n",
       "  <tbody>\n",
       "    <tr>\n",
       "      <th>Intercept</th>\n",
       "      <td>-3.251085</td>\n",
       "      <td>-1.771791</td>\n",
       "    </tr>\n",
       "    <tr>\n",
       "      <th>Followup</th>\n",
       "      <td>0.200394</td>\n",
       "      <td>0.373951</td>\n",
       "    </tr>\n",
       "  </tbody>\n",
       "</table>\n",
       "</div>"
      ],
      "text/plain": [
       "                  0         1\n",
       "Intercept -3.251085 -1.771791\n",
       "Followup   0.200394  0.373951"
      ]
     },
     "execution_count": 30,
     "metadata": {},
     "output_type": "execute_result"
    }
   ],
   "source": [
    "res.conf_int()"
   ]
  },
  {
   "cell_type": "markdown",
   "metadata": {},
   "source": [
    "### We can observe that HemoglobinA1C.Followup is a good predictor for Treatment since p value is less than 0.05. The confidance intervals also indicate the same."
   ]
  },
  {
   "cell_type": "markdown",
   "metadata": {},
   "source": [
    "### Logistic regression for Age"
   ]
  },
  {
   "cell_type": "code",
   "execution_count": 31,
   "metadata": {
    "colab": {
     "base_uri": "https://localhost:8080/",
     "height": 292
    },
    "id": "CM3pQBd6JhLK",
    "outputId": "a0584bcb-9f7a-4c39-9622-e0ae0c5d8bcc"
   },
   "outputs": [
    {
     "data": {
      "text/html": [
       "<table class=\"simpletable\">\n",
       "<caption>Generalized Linear Model Regression Results</caption>\n",
       "<tr>\n",
       "  <th>Dep. Variable:</th>   <td>['Treatment[False]', 'Treatment[True]']</td> <th>  No. Observations:  </th>  <td>   520</td> \n",
       "</tr>\n",
       "<tr>\n",
       "  <th>Model:</th>                             <td>GLM</td>                   <th>  Df Residuals:      </th>  <td>   518</td> \n",
       "</tr>\n",
       "<tr>\n",
       "  <th>Model Family:</th>                   <td>Binomial</td>                 <th>  Df Model:          </th>  <td>     1</td> \n",
       "</tr>\n",
       "<tr>\n",
       "  <th>Link Function:</th>                    <td>Logit</td>                  <th>  Scale:             </th> <td>  1.0000</td>\n",
       "</tr>\n",
       "<tr>\n",
       "  <th>Method:</th>                           <td>IRLS</td>                   <th>  Log-Likelihood:    </th> <td> -354.87</td>\n",
       "</tr>\n",
       "<tr>\n",
       "  <th>Date:</th>                       <td>Mon, 07 Nov 2022</td>             <th>  Deviance:          </th> <td>  709.74</td>\n",
       "</tr>\n",
       "<tr>\n",
       "  <th>Time:</th>                           <td>13:00:48</td>                 <th>  Pearson chi2:      </th>  <td>  520.</td> \n",
       "</tr>\n",
       "<tr>\n",
       "  <th>No. Iterations:</th>                     <td>4</td>                    <th>  Pseudo R-squ. (CS):</th>  <td>0.01648</td>\n",
       "</tr>\n",
       "<tr>\n",
       "  <th>Covariance Type:</th>                <td>nonrobust</td>                <th>                     </th>     <td> </td>   \n",
       "</tr>\n",
       "</table>\n",
       "<table class=\"simpletable\">\n",
       "<tr>\n",
       "      <td></td>         <th>coef</th>     <th>std err</th>      <th>z</th>      <th>P>|z|</th>  <th>[0.025</th>    <th>0.975]</th>  \n",
       "</tr>\n",
       "<tr>\n",
       "  <th>Intercept</th> <td>    1.1196</td> <td>    0.441</td> <td>    2.540</td> <td> 0.011</td> <td>    0.256</td> <td>    1.984</td>\n",
       "</tr>\n",
       "<tr>\n",
       "  <th>Age</th>       <td>   -0.0235</td> <td>    0.008</td> <td>   -2.909</td> <td> 0.004</td> <td>   -0.039</td> <td>   -0.008</td>\n",
       "</tr>\n",
       "</table>"
      ],
      "text/plain": [
       "<class 'statsmodels.iolib.summary.Summary'>\n",
       "\"\"\"\n",
       "                            Generalized Linear Model Regression Results                            \n",
       "===================================================================================================\n",
       "Dep. Variable:     ['Treatment[False]', 'Treatment[True]']   No. Observations:                  520\n",
       "Model:                                                 GLM   Df Residuals:                      518\n",
       "Model Family:                                     Binomial   Df Model:                            1\n",
       "Link Function:                                       Logit   Scale:                          1.0000\n",
       "Method:                                               IRLS   Log-Likelihood:                -354.87\n",
       "Date:                                     Mon, 07 Nov 2022   Deviance:                       709.74\n",
       "Time:                                             13:00:48   Pearson chi2:                     520.\n",
       "No. Iterations:                                          4   Pseudo R-squ. (CS):            0.01648\n",
       "Covariance Type:                                 nonrobust                                         \n",
       "==============================================================================\n",
       "                 coef    std err          z      P>|z|      [0.025      0.975]\n",
       "------------------------------------------------------------------------------\n",
       "Intercept      1.1196      0.441      2.540      0.011       0.256       1.984\n",
       "Age           -0.0235      0.008     -2.909      0.004      -0.039      -0.008\n",
       "==============================================================================\n",
       "\"\"\""
      ]
     },
     "execution_count": 31,
     "metadata": {},
     "output_type": "execute_result"
    }
   ],
   "source": [
    "model = sm.GLM.from_formula(\"Treatment ~ Age\", family = sm.families.Binomial(), data=df)\n",
    "res = model.fit()\n",
    "res.summary()"
   ]
  },
  {
   "cell_type": "code",
   "execution_count": 32,
   "metadata": {
    "colab": {
     "base_uri": "https://localhost:8080/",
     "height": 112
    },
    "id": "5FSUfAAeRnmD",
    "outputId": "f4396b3e-400b-4c0f-cc7d-67e04d79aba5"
   },
   "outputs": [
    {
     "data": {
      "text/html": [
       "<div>\n",
       "<style scoped>\n",
       "    .dataframe tbody tr th:only-of-type {\n",
       "        vertical-align: middle;\n",
       "    }\n",
       "\n",
       "    .dataframe tbody tr th {\n",
       "        vertical-align: top;\n",
       "    }\n",
       "\n",
       "    .dataframe thead th {\n",
       "        text-align: right;\n",
       "    }\n",
       "</style>\n",
       "<table border=\"1\" class=\"dataframe\">\n",
       "  <thead>\n",
       "    <tr style=\"text-align: right;\">\n",
       "      <th></th>\n",
       "      <th>0</th>\n",
       "      <th>1</th>\n",
       "    </tr>\n",
       "  </thead>\n",
       "  <tbody>\n",
       "    <tr>\n",
       "      <th>Intercept</th>\n",
       "      <td>0.255720</td>\n",
       "      <td>1.983543</td>\n",
       "    </tr>\n",
       "    <tr>\n",
       "      <th>Age</th>\n",
       "      <td>-0.039281</td>\n",
       "      <td>-0.007654</td>\n",
       "    </tr>\n",
       "  </tbody>\n",
       "</table>\n",
       "</div>"
      ],
      "text/plain": [
       "                  0         1\n",
       "Intercept  0.255720  1.983543\n",
       "Age       -0.039281 -0.007654"
      ]
     },
     "execution_count": 32,
     "metadata": {},
     "output_type": "execute_result"
    }
   ],
   "source": [
    "res.conf_int()"
   ]
  },
  {
   "cell_type": "markdown",
   "metadata": {},
   "source": [
    "### We can observe that Age is a good predictor for Treatment since p value is less than 0.05. The confidance intervals also indicate the same."
   ]
  },
  {
   "cell_type": "markdown",
   "metadata": {},
   "source": [
    "### Logistic regression for Female"
   ]
  },
  {
   "cell_type": "code",
   "execution_count": 33,
   "metadata": {
    "colab": {
     "base_uri": "https://localhost:8080/",
     "height": 292
    },
    "id": "RPBDLQ4vRrYa",
    "outputId": "3faf03f6-b500-447b-e0d1-5e55df88f722"
   },
   "outputs": [
    {
     "data": {
      "text/html": [
       "<table class=\"simpletable\">\n",
       "<caption>Generalized Linear Model Regression Results</caption>\n",
       "<tr>\n",
       "  <th>Dep. Variable:</th>   <td>['Treatment[False]', 'Treatment[True]']</td> <th>  No. Observations:  </th>  <td>   520</td>  \n",
       "</tr>\n",
       "<tr>\n",
       "  <th>Model:</th>                             <td>GLM</td>                   <th>  Df Residuals:      </th>  <td>   518</td>  \n",
       "</tr>\n",
       "<tr>\n",
       "  <th>Model Family:</th>                   <td>Binomial</td>                 <th>  Df Model:          </th>  <td>     1</td>  \n",
       "</tr>\n",
       "<tr>\n",
       "  <th>Link Function:</th>                    <td>Logit</td>                  <th>  Scale:             </th> <td>  1.0000</td> \n",
       "</tr>\n",
       "<tr>\n",
       "  <th>Method:</th>                           <td>IRLS</td>                   <th>  Log-Likelihood:    </th> <td> -359.11</td> \n",
       "</tr>\n",
       "<tr>\n",
       "  <th>Date:</th>                       <td>Mon, 07 Nov 2022</td>             <th>  Deviance:          </th> <td>  718.23</td> \n",
       "</tr>\n",
       "<tr>\n",
       "  <th>Time:</th>                           <td>13:00:54</td>                 <th>  Pearson chi2:      </th>  <td>  520.</td>  \n",
       "</tr>\n",
       "<tr>\n",
       "  <th>No. Iterations:</th>                     <td>4</td>                    <th>  Pseudo R-squ. (CS):</th> <td>0.0002899</td>\n",
       "</tr>\n",
       "<tr>\n",
       "  <th>Covariance Type:</th>                <td>nonrobust</td>                <th>                     </th>     <td> </td>    \n",
       "</tr>\n",
       "</table>\n",
       "<table class=\"simpletable\">\n",
       "<tr>\n",
       "         <td></td>           <th>coef</th>     <th>std err</th>      <th>z</th>      <th>P>|z|</th>  <th>[0.025</th>    <th>0.975]</th>  \n",
       "</tr>\n",
       "<tr>\n",
       "  <th>Intercept</th>      <td>   -0.1737</td> <td>    0.126</td> <td>   -1.379</td> <td> 0.168</td> <td>   -0.421</td> <td>    0.073</td>\n",
       "</tr>\n",
       "<tr>\n",
       "  <th>Female[T.True]</th> <td>    0.0683</td> <td>    0.176</td> <td>    0.388</td> <td> 0.698</td> <td>   -0.276</td> <td>    0.413</td>\n",
       "</tr>\n",
       "</table>"
      ],
      "text/plain": [
       "<class 'statsmodels.iolib.summary.Summary'>\n",
       "\"\"\"\n",
       "                            Generalized Linear Model Regression Results                            \n",
       "===================================================================================================\n",
       "Dep. Variable:     ['Treatment[False]', 'Treatment[True]']   No. Observations:                  520\n",
       "Model:                                                 GLM   Df Residuals:                      518\n",
       "Model Family:                                     Binomial   Df Model:                            1\n",
       "Link Function:                                       Logit   Scale:                          1.0000\n",
       "Method:                                               IRLS   Log-Likelihood:                -359.11\n",
       "Date:                                     Mon, 07 Nov 2022   Deviance:                       718.23\n",
       "Time:                                             13:00:54   Pearson chi2:                     520.\n",
       "No. Iterations:                                          4   Pseudo R-squ. (CS):          0.0002899\n",
       "Covariance Type:                                 nonrobust                                         \n",
       "==================================================================================\n",
       "                     coef    std err          z      P>|z|      [0.025      0.975]\n",
       "----------------------------------------------------------------------------------\n",
       "Intercept         -0.1737      0.126     -1.379      0.168      -0.421       0.073\n",
       "Female[T.True]     0.0683      0.176      0.388      0.698      -0.276       0.413\n",
       "==================================================================================\n",
       "\"\"\""
      ]
     },
     "execution_count": 33,
     "metadata": {},
     "output_type": "execute_result"
    }
   ],
   "source": [
    "model = sm.GLM.from_formula(\"Treatment ~ Female\", family = sm.families.Binomial(), data=df)\n",
    "res = model.fit()\n",
    "res.summary()"
   ]
  },
  {
   "cell_type": "code",
   "execution_count": 34,
   "metadata": {
    "colab": {
     "base_uri": "https://localhost:8080/",
     "height": 112
    },
    "id": "OkgGhy4PS-Ur",
    "outputId": "839c693d-761a-4f53-ca1e-e2510511382b"
   },
   "outputs": [
    {
     "data": {
      "text/html": [
       "<div>\n",
       "<style scoped>\n",
       "    .dataframe tbody tr th:only-of-type {\n",
       "        vertical-align: middle;\n",
       "    }\n",
       "\n",
       "    .dataframe tbody tr th {\n",
       "        vertical-align: top;\n",
       "    }\n",
       "\n",
       "    .dataframe thead th {\n",
       "        text-align: right;\n",
       "    }\n",
       "</style>\n",
       "<table border=\"1\" class=\"dataframe\">\n",
       "  <thead>\n",
       "    <tr style=\"text-align: right;\">\n",
       "      <th></th>\n",
       "      <th>0</th>\n",
       "      <th>1</th>\n",
       "    </tr>\n",
       "  </thead>\n",
       "  <tbody>\n",
       "    <tr>\n",
       "      <th>Intercept</th>\n",
       "      <td>-0.420549</td>\n",
       "      <td>0.073222</td>\n",
       "    </tr>\n",
       "    <tr>\n",
       "      <th>Female[T.True]</th>\n",
       "      <td>-0.276486</td>\n",
       "      <td>0.413092</td>\n",
       "    </tr>\n",
       "  </tbody>\n",
       "</table>\n",
       "</div>"
      ],
      "text/plain": [
       "                       0         1\n",
       "Intercept      -0.420549  0.073222\n",
       "Female[T.True] -0.276486  0.413092"
      ]
     },
     "execution_count": 34,
     "metadata": {},
     "output_type": "execute_result"
    }
   ],
   "source": [
    "res.conf_int()"
   ]
  },
  {
   "cell_type": "markdown",
   "metadata": {},
   "source": [
    "### We can observe that Female is not a good predictor for Treatment since p value is greater than 0.05. The confidance intervals also indicate the same."
   ]
  },
  {
   "cell_type": "markdown",
   "metadata": {},
   "source": [
    "### Logistic regression for SBP"
   ]
  },
  {
   "cell_type": "code",
   "execution_count": 35,
   "metadata": {
    "colab": {
     "base_uri": "https://localhost:8080/",
     "height": 292
    },
    "id": "oV0izRJcTEvM",
    "outputId": "c2814a01-2712-4960-ad9a-6be20092601e"
   },
   "outputs": [
    {
     "data": {
      "text/html": [
       "<table class=\"simpletable\">\n",
       "<caption>Generalized Linear Model Regression Results</caption>\n",
       "<tr>\n",
       "  <th>Dep. Variable:</th>   <td>['Treatment[False]', 'Treatment[True]']</td> <th>  No. Observations:  </th>  <td>   520</td>  \n",
       "</tr>\n",
       "<tr>\n",
       "  <th>Model:</th>                             <td>GLM</td>                   <th>  Df Residuals:      </th>  <td>   518</td>  \n",
       "</tr>\n",
       "<tr>\n",
       "  <th>Model Family:</th>                   <td>Binomial</td>                 <th>  Df Model:          </th>  <td>     1</td>  \n",
       "</tr>\n",
       "<tr>\n",
       "  <th>Link Function:</th>                    <td>Logit</td>                  <th>  Scale:             </th> <td>  1.0000</td> \n",
       "</tr>\n",
       "<tr>\n",
       "  <th>Method:</th>                           <td>IRLS</td>                   <th>  Log-Likelihood:    </th> <td> -359.03</td> \n",
       "</tr>\n",
       "<tr>\n",
       "  <th>Date:</th>                       <td>Mon, 07 Nov 2022</td>             <th>  Deviance:          </th> <td>  718.06</td> \n",
       "</tr>\n",
       "<tr>\n",
       "  <th>Time:</th>                           <td>13:01:00</td>                 <th>  Pearson chi2:      </th>  <td>  520.</td>  \n",
       "</tr>\n",
       "<tr>\n",
       "  <th>No. Iterations:</th>                     <td>4</td>                    <th>  Pseudo R-squ. (CS):</th> <td>0.0006070</td>\n",
       "</tr>\n",
       "<tr>\n",
       "  <th>Covariance Type:</th>                <td>nonrobust</td>                <th>                     </th>     <td> </td>    \n",
       "</tr>\n",
       "</table>\n",
       "<table class=\"simpletable\">\n",
       "<tr>\n",
       "      <td></td>         <th>coef</th>     <th>std err</th>      <th>z</th>      <th>P>|z|</th>  <th>[0.025</th>    <th>0.975]</th>  \n",
       "</tr>\n",
       "<tr>\n",
       "  <th>Intercept</th> <td>    0.3724</td> <td>    0.914</td> <td>    0.407</td> <td> 0.684</td> <td>   -1.419</td> <td>    2.164</td>\n",
       "</tr>\n",
       "<tr>\n",
       "  <th>SBP</th>       <td>   -0.0039</td> <td>    0.007</td> <td>   -0.562</td> <td> 0.574</td> <td>   -0.017</td> <td>    0.010</td>\n",
       "</tr>\n",
       "</table>"
      ],
      "text/plain": [
       "<class 'statsmodels.iolib.summary.Summary'>\n",
       "\"\"\"\n",
       "                            Generalized Linear Model Regression Results                            \n",
       "===================================================================================================\n",
       "Dep. Variable:     ['Treatment[False]', 'Treatment[True]']   No. Observations:                  520\n",
       "Model:                                                 GLM   Df Residuals:                      518\n",
       "Model Family:                                     Binomial   Df Model:                            1\n",
       "Link Function:                                       Logit   Scale:                          1.0000\n",
       "Method:                                               IRLS   Log-Likelihood:                -359.03\n",
       "Date:                                     Mon, 07 Nov 2022   Deviance:                       718.06\n",
       "Time:                                             13:01:00   Pearson chi2:                     520.\n",
       "No. Iterations:                                          4   Pseudo R-squ. (CS):          0.0006070\n",
       "Covariance Type:                                 nonrobust                                         \n",
       "==============================================================================\n",
       "                 coef    std err          z      P>|z|      [0.025      0.975]\n",
       "------------------------------------------------------------------------------\n",
       "Intercept      0.3724      0.914      0.407      0.684      -1.419       2.164\n",
       "SBP           -0.0039      0.007     -0.562      0.574      -0.017       0.010\n",
       "==============================================================================\n",
       "\"\"\""
      ]
     },
     "execution_count": 35,
     "metadata": {},
     "output_type": "execute_result"
    }
   ],
   "source": [
    "model = sm.GLM.from_formula(\"Treatment ~ SBP\", family = sm.families.Binomial(), data=df)\n",
    "res = model.fit()\n",
    "res.summary()"
   ]
  },
  {
   "cell_type": "code",
   "execution_count": 36,
   "metadata": {
    "colab": {
     "base_uri": "https://localhost:8080/",
     "height": 112
    },
    "id": "xGytTRWIToPv",
    "outputId": "e092d943-99b6-45b8-b40d-2458fd959eff"
   },
   "outputs": [
    {
     "data": {
      "text/html": [
       "<div>\n",
       "<style scoped>\n",
       "    .dataframe tbody tr th:only-of-type {\n",
       "        vertical-align: middle;\n",
       "    }\n",
       "\n",
       "    .dataframe tbody tr th {\n",
       "        vertical-align: top;\n",
       "    }\n",
       "\n",
       "    .dataframe thead th {\n",
       "        text-align: right;\n",
       "    }\n",
       "</style>\n",
       "<table border=\"1\" class=\"dataframe\">\n",
       "  <thead>\n",
       "    <tr style=\"text-align: right;\">\n",
       "      <th></th>\n",
       "      <th>0</th>\n",
       "      <th>1</th>\n",
       "    </tr>\n",
       "  </thead>\n",
       "  <tbody>\n",
       "    <tr>\n",
       "      <th>Intercept</th>\n",
       "      <td>-1.419408</td>\n",
       "      <td>2.164236</td>\n",
       "    </tr>\n",
       "    <tr>\n",
       "      <th>SBP</th>\n",
       "      <td>-0.017460</td>\n",
       "      <td>0.009683</td>\n",
       "    </tr>\n",
       "  </tbody>\n",
       "</table>\n",
       "</div>"
      ],
      "text/plain": [
       "                  0         1\n",
       "Intercept -1.419408  2.164236\n",
       "SBP       -0.017460  0.009683"
      ]
     },
     "execution_count": 36,
     "metadata": {},
     "output_type": "execute_result"
    }
   ],
   "source": [
    "res.conf_int()"
   ]
  },
  {
   "cell_type": "markdown",
   "metadata": {},
   "source": [
    "### We can observe that SBP is not a good predictor for Treatment since p value is greater than 0.05. The confidance intervals also indicate the same."
   ]
  },
  {
   "cell_type": "markdown",
   "metadata": {},
   "source": [
    "### Logistic regression for BMI"
   ]
  },
  {
   "cell_type": "code",
   "execution_count": 37,
   "metadata": {
    "colab": {
     "base_uri": "https://localhost:8080/",
     "height": 292
    },
    "id": "lvQCh81hTrdo",
    "outputId": "0bcef8c8-fdc7-41e6-a75b-b2d64a477a27"
   },
   "outputs": [
    {
     "data": {
      "text/html": [
       "<table class=\"simpletable\">\n",
       "<caption>Generalized Linear Model Regression Results</caption>\n",
       "<tr>\n",
       "  <th>Dep. Variable:</th>   <td>['Treatment[False]', 'Treatment[True]']</td> <th>  No. Observations:  </th>  <td>   520</td> \n",
       "</tr>\n",
       "<tr>\n",
       "  <th>Model:</th>                             <td>GLM</td>                   <th>  Df Residuals:      </th>  <td>   518</td> \n",
       "</tr>\n",
       "<tr>\n",
       "  <th>Model Family:</th>                   <td>Binomial</td>                 <th>  Df Model:          </th>  <td>     1</td> \n",
       "</tr>\n",
       "<tr>\n",
       "  <th>Link Function:</th>                    <td>Logit</td>                  <th>  Scale:             </th> <td>  1.0000</td>\n",
       "</tr>\n",
       "<tr>\n",
       "  <th>Method:</th>                           <td>IRLS</td>                   <th>  Log-Likelihood:    </th> <td> -358.79</td>\n",
       "</tr>\n",
       "<tr>\n",
       "  <th>Date:</th>                       <td>Mon, 07 Nov 2022</td>             <th>  Deviance:          </th> <td>  717.58</td>\n",
       "</tr>\n",
       "<tr>\n",
       "  <th>Time:</th>                           <td>13:01:05</td>                 <th>  Pearson chi2:      </th>  <td>  520.</td> \n",
       "</tr>\n",
       "<tr>\n",
       "  <th>No. Iterations:</th>                     <td>4</td>                    <th>  Pseudo R-squ. (CS):</th> <td>0.001535</td>\n",
       "</tr>\n",
       "<tr>\n",
       "  <th>Covariance Type:</th>                <td>nonrobust</td>                <th>                     </th>     <td> </td>   \n",
       "</tr>\n",
       "</table>\n",
       "<table class=\"simpletable\">\n",
       "<tr>\n",
       "      <td></td>         <th>coef</th>     <th>std err</th>      <th>z</th>      <th>P>|z|</th>  <th>[0.025</th>    <th>0.975]</th>  \n",
       "</tr>\n",
       "<tr>\n",
       "  <th>Intercept</th> <td>   -0.9822</td> <td>    0.949</td> <td>   -1.035</td> <td> 0.301</td> <td>   -2.842</td> <td>    0.878</td>\n",
       "</tr>\n",
       "<tr>\n",
       "  <th>BMI</th>       <td>    0.0264</td> <td>    0.030</td> <td>    0.893</td> <td> 0.372</td> <td>   -0.032</td> <td>    0.084</td>\n",
       "</tr>\n",
       "</table>"
      ],
      "text/plain": [
       "<class 'statsmodels.iolib.summary.Summary'>\n",
       "\"\"\"\n",
       "                            Generalized Linear Model Regression Results                            \n",
       "===================================================================================================\n",
       "Dep. Variable:     ['Treatment[False]', 'Treatment[True]']   No. Observations:                  520\n",
       "Model:                                                 GLM   Df Residuals:                      518\n",
       "Model Family:                                     Binomial   Df Model:                            1\n",
       "Link Function:                                       Logit   Scale:                          1.0000\n",
       "Method:                                               IRLS   Log-Likelihood:                -358.79\n",
       "Date:                                     Mon, 07 Nov 2022   Deviance:                       717.58\n",
       "Time:                                             13:01:05   Pearson chi2:                     520.\n",
       "No. Iterations:                                          4   Pseudo R-squ. (CS):           0.001535\n",
       "Covariance Type:                                 nonrobust                                         \n",
       "==============================================================================\n",
       "                 coef    std err          z      P>|z|      [0.025      0.975]\n",
       "------------------------------------------------------------------------------\n",
       "Intercept     -0.9822      0.949     -1.035      0.301      -2.842       0.878\n",
       "BMI            0.0264      0.030      0.893      0.372      -0.032       0.084\n",
       "==============================================================================\n",
       "\"\"\""
      ]
     },
     "execution_count": 37,
     "metadata": {},
     "output_type": "execute_result"
    }
   ],
   "source": [
    "model = sm.GLM.from_formula(\"Treatment ~ BMI\", family = sm.families.Binomial(), data=df)\n",
    "res = model.fit()\n",
    "res.summary()"
   ]
  },
  {
   "cell_type": "code",
   "execution_count": 38,
   "metadata": {
    "colab": {
     "base_uri": "https://localhost:8080/",
     "height": 112
    },
    "id": "Js9YvvVtUIpi",
    "outputId": "5fcffa57-88c2-4857-88d2-73e52ba2bfaa"
   },
   "outputs": [
    {
     "data": {
      "text/html": [
       "<div>\n",
       "<style scoped>\n",
       "    .dataframe tbody tr th:only-of-type {\n",
       "        vertical-align: middle;\n",
       "    }\n",
       "\n",
       "    .dataframe tbody tr th {\n",
       "        vertical-align: top;\n",
       "    }\n",
       "\n",
       "    .dataframe thead th {\n",
       "        text-align: right;\n",
       "    }\n",
       "</style>\n",
       "<table border=\"1\" class=\"dataframe\">\n",
       "  <thead>\n",
       "    <tr style=\"text-align: right;\">\n",
       "      <th></th>\n",
       "      <th>0</th>\n",
       "      <th>1</th>\n",
       "    </tr>\n",
       "  </thead>\n",
       "  <tbody>\n",
       "    <tr>\n",
       "      <th>Intercept</th>\n",
       "      <td>-2.842237</td>\n",
       "      <td>0.877862</td>\n",
       "    </tr>\n",
       "    <tr>\n",
       "      <th>BMI</th>\n",
       "      <td>-0.031552</td>\n",
       "      <td>0.084353</td>\n",
       "    </tr>\n",
       "  </tbody>\n",
       "</table>\n",
       "</div>"
      ],
      "text/plain": [
       "                  0         1\n",
       "Intercept -2.842237  0.877862\n",
       "BMI       -0.031552  0.084353"
      ]
     },
     "execution_count": 38,
     "metadata": {},
     "output_type": "execute_result"
    }
   ],
   "source": [
    "res.conf_int()"
   ]
  },
  {
   "cell_type": "markdown",
   "metadata": {},
   "source": [
    "### We can observe that BMI is not a good predictor for Treatment since p value is greater than 0.05. The confidance intervals also indicate the same."
   ]
  },
  {
   "cell_type": "markdown",
   "metadata": {
    "id": "AsLZAxJEcuNE"
   },
   "source": [
    "<h1>Multiple regression</h1>"
   ]
  },
  {
   "cell_type": "code",
   "execution_count": 39,
   "metadata": {
    "colab": {
     "base_uri": "https://localhost:8080/",
     "height": 397
    },
    "id": "npb-s-3igNqk",
    "outputId": "96e24146-a457-44b9-da89-736388caca41"
   },
   "outputs": [
    {
     "data": {
      "text/html": [
       "<table class=\"simpletable\">\n",
       "<caption>Generalized Linear Model Regression Results</caption>\n",
       "<tr>\n",
       "  <th>Dep. Variable:</th>   <td>['Treatment[False]', 'Treatment[True]']</td> <th>  No. Observations:  </th>  <td>   520</td> \n",
       "</tr>\n",
       "<tr>\n",
       "  <th>Model:</th>                             <td>GLM</td>                   <th>  Df Residuals:      </th>  <td>   513</td> \n",
       "</tr>\n",
       "<tr>\n",
       "  <th>Model Family:</th>                   <td>Binomial</td>                 <th>  Df Model:          </th>  <td>     6</td> \n",
       "</tr>\n",
       "<tr>\n",
       "  <th>Link Function:</th>                    <td>Logit</td>                  <th>  Scale:             </th> <td>  1.0000</td>\n",
       "</tr>\n",
       "<tr>\n",
       "  <th>Method:</th>                           <td>IRLS</td>                   <th>  Log-Likelihood:    </th> <td> -323.59</td>\n",
       "</tr>\n",
       "<tr>\n",
       "  <th>Date:</th>                       <td>Mon, 07 Nov 2022</td>             <th>  Deviance:          </th> <td>  647.18</td>\n",
       "</tr>\n",
       "<tr>\n",
       "  <th>Time:</th>                           <td>13:01:11</td>                 <th>  Pearson chi2:      </th>  <td>  518.</td> \n",
       "</tr>\n",
       "<tr>\n",
       "  <th>No. Iterations:</th>                     <td>4</td>                    <th>  Pseudo R-squ. (CS):</th>  <td>0.1280</td> \n",
       "</tr>\n",
       "<tr>\n",
       "  <th>Covariance Type:</th>                <td>nonrobust</td>                <th>                     </th>     <td> </td>   \n",
       "</tr>\n",
       "</table>\n",
       "<table class=\"simpletable\">\n",
       "<tr>\n",
       "         <td></td>           <th>coef</th>     <th>std err</th>      <th>z</th>      <th>P>|z|</th>  <th>[0.025</th>    <th>0.975]</th>  \n",
       "</tr>\n",
       "<tr>\n",
       "  <th>Intercept</th>      <td>   -0.2271</td> <td>    1.168</td> <td>   -0.194</td> <td> 0.846</td> <td>   -2.517</td> <td>    2.063</td>\n",
       "</tr>\n",
       "<tr>\n",
       "  <th>Female[T.True]</th> <td>    0.0152</td> <td>    0.189</td> <td>    0.080</td> <td> 0.936</td> <td>   -0.356</td> <td>    0.386</td>\n",
       "</tr>\n",
       "<tr>\n",
       "  <th>Baseline</th>       <td>    0.2204</td> <td>    0.067</td> <td>    3.287</td> <td> 0.001</td> <td>    0.089</td> <td>    0.352</td>\n",
       "</tr>\n",
       "<tr>\n",
       "  <th>Followup</th>       <td>    0.1711</td> <td>    0.062</td> <td>    2.780</td> <td> 0.005</td> <td>    0.050</td> <td>    0.292</td>\n",
       "</tr>\n",
       "<tr>\n",
       "  <th>Age</th>            <td>   -0.0294</td> <td>    0.010</td> <td>   -3.019</td> <td> 0.003</td> <td>   -0.048</td> <td>   -0.010</td>\n",
       "</tr>\n",
       "<tr>\n",
       "  <th>BMI</th>            <td>   -0.0613</td> <td>    0.040</td> <td>   -1.549</td> <td> 0.121</td> <td>   -0.139</td> <td>    0.016</td>\n",
       "</tr>\n",
       "<tr>\n",
       "  <th>SBP</th>            <td>    0.0015</td> <td>    0.010</td> <td>    0.159</td> <td> 0.874</td> <td>   -0.018</td> <td>    0.021</td>\n",
       "</tr>\n",
       "</table>"
      ],
      "text/plain": [
       "<class 'statsmodels.iolib.summary.Summary'>\n",
       "\"\"\"\n",
       "                            Generalized Linear Model Regression Results                            \n",
       "===================================================================================================\n",
       "Dep. Variable:     ['Treatment[False]', 'Treatment[True]']   No. Observations:                  520\n",
       "Model:                                                 GLM   Df Residuals:                      513\n",
       "Model Family:                                     Binomial   Df Model:                            6\n",
       "Link Function:                                       Logit   Scale:                          1.0000\n",
       "Method:                                               IRLS   Log-Likelihood:                -323.59\n",
       "Date:                                     Mon, 07 Nov 2022   Deviance:                       647.18\n",
       "Time:                                             13:01:11   Pearson chi2:                     518.\n",
       "No. Iterations:                                          4   Pseudo R-squ. (CS):             0.1280\n",
       "Covariance Type:                                 nonrobust                                         \n",
       "==================================================================================\n",
       "                     coef    std err          z      P>|z|      [0.025      0.975]\n",
       "----------------------------------------------------------------------------------\n",
       "Intercept         -0.2271      1.168     -0.194      0.846      -2.517       2.063\n",
       "Female[T.True]     0.0152      0.189      0.080      0.936      -0.356       0.386\n",
       "Baseline           0.2204      0.067      3.287      0.001       0.089       0.352\n",
       "Followup           0.1711      0.062      2.780      0.005       0.050       0.292\n",
       "Age               -0.0294      0.010     -3.019      0.003      -0.048      -0.010\n",
       "BMI               -0.0613      0.040     -1.549      0.121      -0.139       0.016\n",
       "SBP                0.0015      0.010      0.159      0.874      -0.018       0.021\n",
       "==================================================================================\n",
       "\"\"\""
      ]
     },
     "execution_count": 39,
     "metadata": {},
     "output_type": "execute_result"
    }
   ],
   "source": [
    "model = sm.GLM.from_formula(\"Treatment ~ Baseline + Followup + Age + Female + BMI + SBP\", family = sm.families.Binomial(), data=df)\n",
    "res = model.fit()\n",
    "res.summary()"
   ]
  },
  {
   "cell_type": "code",
   "execution_count": 40,
   "metadata": {
    "colab": {
     "base_uri": "https://localhost:8080/"
    },
    "id": "BND4zIzWgybT",
    "outputId": "52a05db5-bd37-4fc8-d2eb-fda996a6a552"
   },
   "outputs": [
    {
     "data": {
      "text/plain": [
       "661.1755752588326"
      ]
     },
     "execution_count": 40,
     "metadata": {},
     "output_type": "execute_result"
    }
   ],
   "source": [
    "res.aic"
   ]
  },
  {
   "cell_type": "markdown",
   "metadata": {},
   "source": [
    "### Here we can see that Female, BMI and SBP are not good predictors for Treatment. Let's try removing them."
   ]
  },
  {
   "cell_type": "code",
   "execution_count": 41,
   "metadata": {
    "colab": {
     "base_uri": "https://localhost:8080/"
    },
    "id": "jyAL0DX7hfqQ",
    "outputId": "324d4f25-2325-4702-8b7c-7e77820a5988"
   },
   "outputs": [
    {
     "data": {
      "text/plain": [
       "658.0988824441788"
      ]
     },
     "execution_count": 41,
     "metadata": {},
     "output_type": "execute_result"
    }
   ],
   "source": [
    "model = sm.GLM.from_formula(\"Treatment ~ Baseline + Followup + Age\", family = sm.families.Binomial(), data=df)\n",
    "res = model.fit()\n",
    "res.aic"
   ]
  },
  {
   "cell_type": "code",
   "execution_count": 42,
   "metadata": {
    "colab": {
     "base_uri": "https://localhost:8080/"
    },
    "id": "lEW-cHLkjVvH",
    "outputId": "bbca3a31-a828-44d3-a5aa-bcd5f01801b0"
   },
   "outputs": [
    {
     "data": {
      "text/plain": [
       "664.1701139583399"
      ]
     },
     "execution_count": 42,
     "metadata": {},
     "output_type": "execute_result"
    }
   ],
   "source": [
    "model = sm.GLM.from_formula(\"Treatment ~ Baseline  + Age\", family = sm.families.Binomial(), data=df)\n",
    "res = model.fit()\n",
    "res.aic"
   ]
  },
  {
   "cell_type": "code",
   "execution_count": 43,
   "metadata": {},
   "outputs": [
    {
     "data": {
      "text/plain": [
       "665.045014398811"
      ]
     },
     "execution_count": 43,
     "metadata": {},
     "output_type": "execute_result"
    }
   ],
   "source": [
    "model = sm.GLM.from_formula(\"Treatment ~  Followup + Age\", family = sm.families.Binomial(), data=df)\n",
    "res = model.fit()\n",
    "res.aic"
   ]
  },
  {
   "cell_type": "code",
   "execution_count": 44,
   "metadata": {
    "colab": {
     "base_uri": "https://localhost:8080/"
    },
    "id": "jFBjk7D1jYqR",
    "outputId": "44f32fb7-4188-439a-d5cb-c1de640bd316"
   },
   "outputs": [
    {
     "data": {
      "text/plain": [
       "668.1292383066989"
      ]
     },
     "execution_count": 44,
     "metadata": {},
     "output_type": "execute_result"
    }
   ],
   "source": [
    "model = sm.GLM.from_formula(\"Treatment ~ Baseline + Followup\", family = sm.families.Binomial(), data=df)\n",
    "res = model.fit()\n",
    "res.aic"
   ]
  },
  {
   "cell_type": "markdown",
   "metadata": {},
   "source": [
    "### We can observe that we get the best result (least aic) when we use Baseline, Followup and Age."
   ]
  },
  {
   "cell_type": "code",
   "execution_count": null,
   "metadata": {},
   "outputs": [],
   "source": []
  }
 ],
 "metadata": {
  "colab": {
   "name": "assignment6.ipynb",
   "provenance": []
  },
  "kernelspec": {
   "display_name": "Python 3 (ipykernel)",
   "language": "python",
   "name": "python3"
  },
  "language_info": {
   "codemirror_mode": {
    "name": "ipython",
    "version": 3
   },
   "file_extension": ".py",
   "mimetype": "text/x-python",
   "name": "python",
   "nbconvert_exporter": "python",
   "pygments_lexer": "ipython3",
   "version": "3.9.12"
  }
 },
 "nbformat": 4,
 "nbformat_minor": 1
}
